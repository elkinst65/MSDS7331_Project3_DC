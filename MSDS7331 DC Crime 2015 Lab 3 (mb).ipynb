{
 "cells": [
  {
   "cell_type": "markdown",
   "metadata": {},
   "source": [
    "# MSDS 7331 - Lab Three: Clustering, Association Rules, or Recommenders\n",
    "\n",
    "### Investigators\n",
    "- [Matt Baldree](mailto:mbaldree@smu.edu?subject=lab2)\n",
    "- [Ben Brock](bbrock@smu.edu?subject=lab2)\n",
    "- [Tom Elkins](telkins@smu.edu?subject=lab2)\n",
    "- [Austin Kelly](ajkelly@smu.edu?subject=lab2)\n",
    "\n",
    "<div style='margin-left:10%;margin-right:10%;margin-top:15px;background-color:#d3d3d3;padding:5px;'>\n",
    "    <h3>CRISP-DM Capstone: Association Rule Mining, Clustering, or Collaborative Filtering</h3>\n",
    "    <h3>Lab Instructions</h3>\n",
    "    <p>In the final assignment for this course, you will be using one of three different analysis methods:</p>\n",
    "    <ul>\n",
    "    <li>Option A: Use transaction data for mining associations rules</li>\n",
    "    <li>Option B: Use clustering on an unlabeled dataset to provide insight or features</li>\n",
    "    <li>Option C: Use collaborative filtering to build a custom recommendation system</li>\n",
    "    </ul>\n",
    "    <p>This report is worth 20% of the final grade. Please upload a report (one per team) with all code used, visualizations, and text in a single document. The results should be reproducible using your report. Please carefully describe every assumption and every step in your report.</p>\n",
    "    <p>Your choice of dataset will largely determine the task that you are trying to achieve. Though the dataset does not need to change from your previous tasks. For example, you might choose to use clustering on your data as a preprocessing step that extracts different features. Then you can use those features to build a classifier and analyze its performance in terms of accuracy (precision, recall) and speed. Alternatively, you might choose a completely different dataset and perform rule mining or build a recommendation system.</p>\n",
    "    <p>Note that scikit-learn can be used for clustering analysis, but not for Association Rule Mining (you should use R) or collaborative filtering (you should use graphlabcreate from Dato). Both can be run using iPython notebooks as shown in lecture.</p>\n",
    "     <p>Write a report covering in detail all the steps of the project. The results need to be reproducible using only this report. Describe all assumptions you make and include all code you use in the iPython notebook or as supplemental functions. Follow the CRISP-DM framework in your analysis (you are performing all of the CRISP-DM outline). This report is worth 20% of the final grade.</p>\n",
    "    <p>Report Sections:</p>\n",
    "    <ol>\n",
    "        <li>[Business Understanding](#business_understanding) <b>(10 points)</b></li>\n",
    "        <li>[Data Understanding](#data_understanding) <b>(20 points)</b></li>\n",
    "        <li>[Modeling and Evaluation](#modeling_and_evaluation) <b>(50 points)</b></li>\n",
    "        <li>[Deployment](#deployment) <b>(10 points)</b></li>\n",
    "        <li>[Exceptional Work](#exceptional_work) <b>(10 points)</b></li>\n",
    "    </ol>\n",
    "</div>"
   ]
  },
  {
   "cell_type": "markdown",
   "metadata": {},
   "source": [
    "<a id='business_understanding'></a>\n",
    "## 1 - Business Understanding\n",
    "<div style='margin-left:10%;margin-right:10%;margin-top:15px;background-color:#d3d3d3;padding:10px;'>\n",
    "<h3>Business Understanding (<b>10 points total</b>)</h3>\n",
    "    <ul>\n",
    "    <li>Describe the purpose of the data set you selected (i.e., why was this data collected in the first place?).</li>\n",
    "    <li>How will you measure the effectiveness of a good algorithm?</li>\n",
    "    <li>Why does your chosen validation method make sense for this specific dataset and the stakeholders needs?</li>\n",
    "    </ul>\n",
    "</div>"
   ]
  },
  {
   "cell_type": "code",
   "execution_count": null,
   "metadata": {
    "collapsed": true
   },
   "outputs": [],
   "source": []
  },
  {
   "cell_type": "markdown",
   "metadata": {},
   "source": [
    "<a id='data_understanding'></a>\n",
    "## 2 - Data Understanding\n",
    "<div style='margin-left:10%;margin-right:10%;margin-top:15px;background-color:#d3d3d3;padding:10px;'>\n",
    "<h3>Data Understanding (<b>20 points total</b>)</h3>\n",
    "    <ul>\n",
    "    <li>[<b>10 points total</b>] [2.1 - Describe the meaning and type of data](#define_meaning).</li>\n",
    "        <ul>\n",
    "        <li>Describe the meaning and type of data (scale, values, etc.) for each attribute in the data file.</li>\n",
    "        <li>Verify data quality: Are there missing values? Duplicate data? Outliers? Are those mistakes? How do you deal with these problems?</li>\n",
    "        </ul>\n",
    "    <li>[<b>10 points total</b>] [2.2 - Visualize data](#visualize_data).</li>\n",
    "        <ul>\n",
    "        <li>Visualize any important attributes appropriately. Important: Provide an interpretation for any charts or graphs.</li>\n",
    "        </ul>\n",
    "    </ul>\n",
    "</div>"
   ]
  },
  {
   "cell_type": "markdown",
   "metadata": {},
   "source": [
    "<a id='define_meaning'></a>\n",
    "### 2.1 - Describe the meaning and type of data (10 points)\n",
    "<ul>\n",
    "<li>Describe the meaning and type of data (scale, values, etc.) for each attribute in the data file.</li>\n",
    "<li>Verify data quality: Are there missing values? Duplicate data? Outliers? Are those mistakes? How do you deal with these problems?</li>\n",
    "</ul>"
   ]
  },
  {
   "cell_type": "code",
   "execution_count": null,
   "metadata": {
    "collapsed": true
   },
   "outputs": [],
   "source": []
  },
  {
   "cell_type": "markdown",
   "metadata": {},
   "source": [
    "<a id='visualize_data'></a>\n",
    "### 2.2 - Visualize data (10 points)\n",
    "<ul>\n",
    "<li>Visualize any important attributes appropriately. Important: Provide an interpretation for any charts or graphs.</li>\n",
    "</ul>"
   ]
  },
  {
   "cell_type": "code",
   "execution_count": null,
   "metadata": {
    "collapsed": true
   },
   "outputs": [],
   "source": []
  },
  {
   "cell_type": "markdown",
   "metadata": {},
   "source": [
    "<a id='modeling_and_evaluation'></a>\n",
    "## 3 - Model and Evaluation\n",
    "<div style='margin-left:10%;margin-right:10%;margin-top:15px;background-color:#d3d3d3;padding:10px;'>\n",
    "<h3>Model and Evaluation (<b>50 points total</b>)</h3>\n",
    "<p>Different tasks will require different evaluation methods. Be as thorough as possible when analyzing the data you have chosen and use visualizations of the results to explain the performance and expected outcomes whenever possible. Guide the reader through your analysis with plenty of discussion of the results.</p>\n",
    "<p><ul>\n",
    "    <li><b>Option A: Cluster Analysis</b><ul>\n",
    "        <li>Perform cluster analysis using several clustering methods.</li>\n",
    "        <li>How did you determine a suitable number of clusters for each method?</li>\n",
    "        <li>Use internal and/or external validation measures to describe and compare the clusterings and the clusters (some visual methods would be good).</li>\n",
    "    <li>Describe your results. What findings are the most interesting and why?</li></ul>\n",
    "    <li><b>Option B: Association Rule Mining</b><ul>\n",
    "        <li>Create frequent itemsets and association rules.</li>\n",
    "        <li>Use tables/visualization to discuss the found results.</li>\n",
    "        <li>Use several measure for evaluating how interesting different rules are.</li>\n",
    "        <li>Describe your results. What findings are the most compelling and why?</li>\n",
    "    </ul></li>\n",
    "    </ul>\n",
    "</div>"
   ]
  },
  {
   "cell_type": "markdown",
   "metadata": {},
   "source": []
  },
  {
   "cell_type": "markdown",
   "metadata": {},
   "source": [
    "<a id='deployment'></a>\n",
    "## 4 - Deployment\n",
    "<div style='margin-left:10%;margin-right:10%;margin-top:15px;background-color:#d3d3d3;padding:10px;'>\n",
    "<h3>Deployment (<b>10 points total</b>)</h3>\n",
    "<p><ul>\n",
    "<li>Be critical of your performance and tell the reader how your current model might be usable by other parties.</li>\n",
    "<li>Did you achieve your goals? If not, can you reign in the utility of your modeling?</li>\n",
    "<li>How useful is your model for interested parties (i.e., the companies or organizations that might want to use it)?</li>\n",
    "<li>How would your deploy your model for interested parties?</li>\n",
    "<li>What other data should be collected?</li>\n",
    "<li>How often would the model need to be updated, etc.?</li>\n",
    "</ul>\n",
    "</div>"
   ]
  },
  {
   "cell_type": "code",
   "execution_count": null,
   "metadata": {
    "collapsed": true
   },
   "outputs": [],
   "source": []
  },
  {
   "cell_type": "markdown",
   "metadata": {},
   "source": [
    "<a id='exceptional_work'></a>\n",
    "## 5 - Exceptional Work\n",
    "<div style='margin-left:10%;margin-right:10%;margin-top:15px;background-color:#d3d3d3;padding:10px;'>\n",
    "<h3>Exceptional Work (<b>10 points total</b>)</h3>\n",
    "<p>You have free reign to provide additional analyses or combine analyses</p>\n",
    "</div>"
   ]
  },
  {
   "cell_type": "code",
   "execution_count": 175,
   "metadata": {
    "collapsed": false
   },
   "outputs": [],
   "source": [
    "# generic imports\n",
    "import pandas as pd\n",
    "import numpy as np\n",
    "from __future__ import print_function\n",
    "\n",
    "# plotting setup\n",
    "%matplotlib inline\n",
    "import matplotlib.pyplot as plt\n",
    "plt.style.use('ggplot')\n",
    "\n",
    "import seaborn as sns\n",
    "sns.set(font_scale=1)\n",
    "cmap = sns.diverging_palette(220, 10, as_cmap=True) # one of the many color mappings\n",
    "\n",
    "# scikit imports\n",
    "from sklearn import metrics\n",
    "from sklearn.preprocessing import StandardScaler\n",
    "from sklearn.linear_model import LogisticRegression\n",
    "from sklearn.model_selection import train_test_split\n",
    "from sklearn.model_selection import cross_val_score\n",
    "from sklearn.model_selection import StratifiedKFold\n",
    "from sklearn.model_selection import GridSearchCV\n",
    "from sklearn.model_selection import train_test_split\n",
    "from sklearn.pipeline import Pipeline\n",
    "from sklearn.decomposition import PCA\n",
    "from sklearn.neighbors import KNeighborsClassifier\n",
    "from sklearn.ensemble import RandomForestClassifier\n",
    "from sklearn.naive_bayes import GaussianNB\n",
    "from sklearn.ensemble import VotingClassifier\n",
    "from sklearn.linear_model import SGDClassifier\n",
    "\n",
    "# Read in the crime data from the CSV file\n",
    "df = pd.read_csv('data/DC_Crime_2015_Lab2_Weather.csv')\n",
    "#df_foodstamps = pd.read_csv('data/foodstamps.csv')\n",
    "df_anc_data = pd.read_csv('data/ANC Data Unemployment and Housing Master.csv')"
   ]
  },
  {
   "cell_type": "code",
   "execution_count": 176,
   "metadata": {
    "collapsed": false
   },
   "outputs": [
    {
     "name": "stdout",
     "output_type": "stream",
     "text": [
      "<class 'pandas.core.frame.DataFrame'>\n",
      "RangeIndex: 36489 entries, 0 to 36488\n",
      "Data columns (total 33 columns):\n",
      "REPORT_DAT              36489 non-null object\n",
      "SHIFT                   36489 non-null object\n",
      "OFFENSE                 36489 non-null object\n",
      "METHOD                  36489 non-null object\n",
      "DISTRICT                36442 non-null float64\n",
      "PSA                     36441 non-null float64\n",
      "WARD                    36489 non-null int64\n",
      "ANC                     36489 non-null int64\n",
      "NEIGHBORHOOD_CLUSTER    36489 non-null int64\n",
      "CENSUS_TRACT            36489 non-null int64\n",
      "VOTING_PRECINCT         36489 non-null int64\n",
      "CCN                     36489 non-null int64\n",
      "XBLOCK                  36489 non-null float64\n",
      "YBLOCK                  36489 non-null float64\n",
      "START_DATE              36489 non-null object\n",
      "END_DATE                36489 non-null object\n",
      "PSA_ID                  36489 non-null int64\n",
      "DistrictID              36489 non-null int64\n",
      "SHIFT_Code              36489 non-null int64\n",
      "OFFENSE_Code            36489 non-null int64\n",
      "METHOD_Code             36489 non-null int64\n",
      "CRIME_TYPE              36489 non-null int64\n",
      "AGE                     36489 non-null int64\n",
      "TIME_TO_REPORT          36489 non-null int64\n",
      "Latitude                36489 non-null float64\n",
      "Longitude               36489 non-null float64\n",
      "Max_Temp                36489 non-null int64\n",
      "Min_Temp                36489 non-null int64\n",
      "Max_Humidity            36489 non-null int64\n",
      "Min_Humidity            36489 non-null int64\n",
      "Max_Pressure            36489 non-null float64\n",
      "Min_Pressure            36489 non-null float64\n",
      "Precipitation           36489 non-null float64\n",
      "dtypes: float64(9), int64(18), object(6)\n",
      "memory usage: 9.2+ MB\n",
      "None\n",
      "\n",
      "<class 'pandas.core.frame.DataFrame'>\n",
      "RangeIndex: 85 entries, 0 to 84\n",
      "Data columns (total 6 columns):\n",
      "YR                85 non-null int64\n",
      "ANC               85 non-null int64\n",
      "ANC2              85 non-null object\n",
      "ANC3              85 non-null object\n",
      "Housing_Prices    85 non-null int64\n",
      "Unemployment      85 non-null float64\n",
      "dtypes: float64(1), int64(3), object(2)\n",
      "memory usage: 4.1+ KB\n",
      "None\n"
     ]
    }
   ],
   "source": [
    "print(df.info())\n",
    "print('')\n",
    "print(df_anc_data.info())"
   ]
  },
  {
   "cell_type": "code",
   "execution_count": 177,
   "metadata": {
    "collapsed": false
   },
   "outputs": [],
   "source": [
    "# drop ANC2 and ANC3 from the df_anc_data DataFrame\n",
    "# remove Unemployment and Housing_Prices because you will not have this information from crime reports\n",
    "del df_anc_data['ANC2']\n",
    "del df_anc_data['ANC3']"
   ]
  },
  {
   "cell_type": "code",
   "execution_count": 178,
   "metadata": {
    "collapsed": true
   },
   "outputs": [],
   "source": [
    "# create dummy codes given a list of attributes and dataframe\n",
    "def dummy_code(attrib_list, df):\n",
    "    for attrib in (attrib_list):\n",
    "        tmp_df = pd.get_dummies(df[attrib], prefix=attrib)\n",
    "        df = pd.concat((df, tmp_df),axis=1) # add back into the dataframe\n",
    "    \n",
    "        del df[attrib] # remove attribe\n",
    "    return df"
   ]
  },
  {
   "cell_type": "code",
   "execution_count": 179,
   "metadata": {
    "collapsed": true
   },
   "outputs": [],
   "source": [
    "if 'END_DATE' in df:\n",
    "    # convert END_DATE to datetime\n",
    "    df.END_DATE = pd.to_datetime(df.END_DATE)\n",
    "    \n",
    "    # add YR to merge on with foodstamp df\n",
    "    df['YR'] = df.END_DATE.map(lambda x: x.year)\n",
    "    df.YR = df.YR.astype('int64')\n",
    "    \n",
    "    # merge ANC data into df\n",
    "    df = pd.merge(df, df_anc_data, on=['ANC', 'YR'])\n",
    "    \n",
    "    # drop temp YR\n",
    "    del df['YR']"
   ]
  },
  {
   "cell_type": "code",
   "execution_count": 180,
   "metadata": {
    "collapsed": true
   },
   "outputs": [],
   "source": [
    "# remove attributes that aren't useful\n",
    "for attrib in ('REPORT_DAT', 'SHIFT', 'OFFENSE', 'METHOD', 'DISTRICT', 'PSA', 'WARD', 'CENSUS_TRACT', \n",
    "               'VOTING_PRECINCT', 'CRIME_TYPE', 'CCN', 'XBLOCK', 'YBLOCK', 'START_DATE', 'DistrictID', 'SHIFT_Code', \n",
    "               'METHOD_Code', 'AGE', 'TIME_TO_REPORT', 'END_DATE', 'PSA_ID', 'NEIGHBORHOOD_CLUSTER',\n",
    "               'OFFENSE_Code', 'Latitude', 'Longitude', 'Max_Temp', 'Min_Temp', 'Max_Humidity', 'Min_Humidity', \n",
    "               'Min_Pressure', 'Max_Pressure', 'Precipitation'):\n",
    "    if attrib in df:\n",
    "        del df[attrib]"
   ]
  },
  {
   "cell_type": "code",
   "execution_count": 181,
   "metadata": {
    "collapsed": false
   },
   "outputs": [
    {
     "name": "stdout",
     "output_type": "stream",
     "text": [
      "<class 'pandas.core.frame.DataFrame'>\n",
      "Int64Index: 36489 entries, 0 to 36488\n",
      "Data columns (total 3 columns):\n",
      "ANC               36489 non-null int64\n",
      "Housing_Prices    36489 non-null int64\n",
      "Unemployment      36489 non-null float64\n",
      "dtypes: float64(1), int64(2)\n",
      "memory usage: 1.1 MB\n"
     ]
    }
   ],
   "source": [
    "# do we look good?\n",
    "df.info()"
   ]
  },
  {
   "cell_type": "code",
   "execution_count": 182,
   "metadata": {
    "collapsed": false
   },
   "outputs": [
    {
     "data": {
      "text/plain": [
       "ANC                   11.0\n",
       "Housing_Prices    660000.0\n",
       "Unemployment           7.7\n",
       "Name: 1234, dtype: float64"
      ]
     },
     "execution_count": 182,
     "metadata": {},
     "output_type": "execute_result"
    }
   ],
   "source": [
    "# print a data record for a given row index value\n",
    "df.ix[1234]"
   ]
  },
  {
   "cell_type": "markdown",
   "metadata": {},
   "source": [
    "### setup data for classification"
   ]
  },
  {
   "cell_type": "code",
   "execution_count": 196,
   "metadata": {
    "collapsed": false
   },
   "outputs": [],
   "source": [
    "# create X and y\n",
    "y = df['ANC']\n",
    "X = df[['Housing_Prices', 'Unemployment']]\n",
    "X_transformed = StandardScaler().fit_transform(X)"
   ]
  },
  {
   "cell_type": "code",
   "execution_count": 197,
   "metadata": {
    "collapsed": false
   },
   "outputs": [
    {
     "name": "stdout",
     "output_type": "stream",
     "text": [
      "Size of the dataset: (36489, 3)\n",
      "Number of unique ANC types: 40\n",
      "\n",
      "ANC Percentage\n",
      "ANC\n",
      "11    5.744197\n",
      "12    5.313930\n",
      "13    2.071857\n",
      "14    0.956453\n",
      "21    2.170517\n",
      "22    5.467401\n",
      "23    4.014909\n",
      "24    0.422045\n",
      "25    2.866617\n",
      "26    3.228370\n",
      "32    0.476856\n",
      "33    1.244211\n",
      "34    0.600181\n",
      "35    1.685439\n",
      "36    0.775576\n",
      "37    0.622105\n",
      "41    2.318507\n",
      "42    2.663816\n",
      "43    2.907726\n",
      "44    1.340130\n",
      "51    1.101702\n",
      "52    1.934830\n",
      "53    4.099866\n",
      "54    3.280441\n",
      "55    3.524350\n",
      "61    3.296884\n",
      "62    4.524651\n",
      "63    3.242073\n",
      "64    2.225328\n",
      "65    3.058456\n",
      "72    2.195182\n",
      "73    2.699444\n",
      "74    2.403464\n",
      "75    2.060895\n",
      "76    2.639152\n",
      "81    2.408945\n",
      "82    2.258215\n",
      "83    2.417167\n",
      "84    1.740250\n",
      "85    1.997862\n",
      "Name: ANC, dtype: float64\n",
      "Mean: 2.5, Standard deviaion: 1.32662131416\n"
     ]
    },
    {
     "data": {
      "image/png": "[encoded data removed]",
      "text/plain": [
       "<matplotlib.figure.Figure at 0x130da3d90>"
      ]
     },
     "metadata": {},
     "output_type": "display_data"
    }
   ],
   "source": [
    "# examine what our data\n",
    "print('Size of the dataset:', df.shape)\n",
    "print('Number of unique ANC types:', len(df.ANC.unique()))\n",
    "\n",
    "print('')\n",
    "print('ANC Percentage')\n",
    "y_series = pd.Series(y)\n",
    "y_tot = y_series.count()\n",
    "y_grp = y_series.groupby(y_series)\n",
    "y_pct = y_grp.count() / y_tot * 100.\n",
    "print(y_pct)\n",
    "print('Mean: {}, Standard deviaion: {}'.format(y_pct.mean(), y_pct.std()))\n",
    "\n",
    "# plot distribution\n",
    "ax = sns.distplot(y)\n",
    "plt.title('Distribution of ANC')\n",
    "plt.show()"
   ]
  },
  {
   "cell_type": "markdown",
   "metadata": {},
   "source": [
    "### Classification base accuracy"
   ]
  },
  {
   "cell_type": "code",
   "execution_count": 198,
   "metadata": {
    "collapsed": false
   },
   "outputs": [
    {
     "name": "stdout",
     "output_type": "stream",
     "text": [
      "Average accuracy = 99.8402063989 +/- 0.470365872735\n"
     ]
    }
   ],
   "source": [
    "# leveraging concept from 06 Classification notebook\n",
    "yhat = np.zeros(y.shape)\n",
    "\n",
    "# classifier                           \n",
    "clf = RandomForestClassifier(n_estimators=200,\n",
    "                             n_jobs=-1, class_weight='balanced')\n",
    "\n",
    "skf = StratifiedKFold(n_splits=10, random_state=0)\n",
    "\n",
    "acc = cross_val_score(clf, X=X_transformed, y=y, cv=skf)\n",
    "\n",
    "print('Average accuracy =', acc.mean()*100, '+/-', acc.std()*100)"
   ]
  },
  {
   "cell_type": "markdown",
   "metadata": {},
   "source": [
    "### base visualization"
   ]
  },
  {
   "cell_type": "code",
   "execution_count": 199,
   "metadata": {
    "collapsed": false
   },
   "outputs": [
    {
     "data": {
      "image/png": "[encoded data removed]",
      "text/plain": [
       "<matplotlib.figure.Figure at 0x11cabaa10>"
      ]
     },
     "metadata": {},
     "output_type": "display_data"
    }
   ],
   "source": [
    "sns.set_palette(\"Set1\", 8, .5)\n",
    "\n",
    "X1 = X_transformed\n",
    "\n",
    "ax = sns.jointplot(x=X1[:, 0], y=X1[:, 1])\n",
    "ax.set_axis_labels(xlabel='Housing Prices', ylabel='Unemployment')\n",
    "plt.show()"
   ]
  },
  {
   "cell_type": "markdown",
   "metadata": {},
   "source": [
    "## Clustering\n",
    "\n",
    "Code adapted from 09. Clustering Discretization, 10. Clustering Validity, and assignment 4 notebooks."
   ]
  },
  {
   "cell_type": "code",
   "execution_count": 200,
   "metadata": {
    "collapsed": true
   },
   "outputs": [],
   "source": [
    "from sklearn import metrics\n",
    "\n",
    "\n",
    "def eval_cluster(labels, labels_true, data):\n",
    "    n_clusters_ = len(set(labels)) - (1 if -1 in labels else 0)\n",
    "    print('Estimated number of clusters: %d' % n_clusters_)\n",
    "    print(\"Homogeneity: %0.3f\" % metrics.homogeneity_score(labels_true, labels))\n",
    "    print(\"Completeness: %0.3f\" % metrics.completeness_score(labels_true, labels))\n",
    "    print(\"V-measure: %0.3f\" % metrics.v_measure_score(labels_true, labels))\n",
    "    print(\"Adjusted Rand Index: %0.3f\" % metrics.adjusted_rand_score(labels_true, labels))\n",
    "    print(\"Adjusted Mutual Information: %0.3f\" % metrics.adjusted_mutual_info_score(labels_true, labels))\n",
    "#     print(\"Silhouette Coefficient: %0.3f\" % metrics.silhouette_score(data, labels))\n",
    "    \n",
    "def plot_cluster(data, xlabel, ylabel):\n",
    "    plt.figure()\n",
    "    plt.scatter(data[:, 0], data[:, 1]+np.random.random(X1[:, 1].shape)/2, c=feature, \n",
    "                cmap=plt.cm.rainbow, s=20, linewidths=0)\n",
    "    plt.xlabel(xlabel)\n",
    "    plt.ylabel(ylabel)\n",
    "    plt.show() \n",
    "    \n",
    "def store_best_result(data, acc, attribs):\n",
    "    mean = acc.mean()*100\n",
    "    std = acc.std()*100\n",
    "    \n",
    "    if data['acc']<(mean+std):\n",
    "        data['acc'] = (mean + std)\n",
    "        for k, v in attribs.iteritems():\n",
    "            data[k] = v\n",
    "    return mean, std"
   ]
  },
  {
   "cell_type": "markdown",
   "metadata": {},
   "source": [
    "### KMeans"
   ]
  },
  {
   "cell_type": "code",
   "execution_count": 201,
   "metadata": {
    "collapsed": false
   },
   "outputs": [
    {
     "name": "stdout",
     "output_type": "stream",
     "text": [
      "KMeans, clusters = 45 Average Accuracy = 99.8130110995 +/- 0.455284925527\n",
      "KMeans, clusters = 46 Average Accuracy = 99.8348154058 +/- 0.451958114467\n",
      "KMeans, clusters = 47 Average Accuracy = 99.8348154058 +/- 0.451958114467\n",
      "KMeans, clusters = 48 Average Accuracy = 99.8348154058 +/- 0.451958114467\n",
      "KMeans, clusters = 49 Average Accuracy = 99.8074098141 +/- 0.493653269038\n",
      "KMeans, clusters = 50 Average Accuracy = 99.8130110995 +/- 0.455284925527\n",
      "KMeans, clusters = 51 Average Accuracy = 99.8348154058 +/- 0.451958114467\n",
      "KMeans, clusters = 52 Average Accuracy = 99.8130110995 +/- 0.455284925527\n",
      "KMeans, clusters = 53 Average Accuracy = 99.8348154058 +/- 0.451958114467\n",
      "KMeans, clusters = 54 Average Accuracy = 99.8265486657 +/- 0.476663133235\n",
      "best clusters = 54\n"
     ]
    }
   ],
   "source": [
    "from sklearn.cluster import MiniBatchKMeans\n",
    "\n",
    "kmeans_best_result = {'acc':0, 'clusters':0}\n",
    "for clusters in range(45, 55):\n",
    "    cls = MiniBatchKMeans(n_clusters=clusters, init='k-means++', random_state=1)\n",
    "    cls.fit(X_transformed)\n",
    "    X_new = pd.get_dummies(cls.labels_)\n",
    "    \n",
    "    acc = cross_val_score(clf, X=X_new, y=y, cv=skf)\n",
    "\n",
    "    mean, std = store_best_result(kmeans_best_result, acc, {'clusters':clusters})\n",
    "    print('KMeans, clusters =',  clusters, 'Average Accuracy =', mean, '+/-', std)\n",
    "\n",
    "print('best clusters =', kmeans_best_result['clusters'])"
   ]
  },
  {
   "cell_type": "markdown",
   "metadata": {},
   "source": [
    "#### Visualize best cluster"
   ]
  },
  {
   "cell_type": "code",
   "execution_count": 203,
   "metadata": {
    "collapsed": false
   },
   "outputs": [
    {
     "name": "stdout",
     "output_type": "stream",
     "text": [
      "Estimated number of clusters: 43\n",
      "Homogeneity: 0.997\n",
      "Completeness: 0.997\n",
      "V-measure: 0.997\n",
      "Adjusted Rand Index: 0.996\n",
      "Adjusted Mutual Information: 0.997\n"
     ]
    },
    {
     "data": {
      "image/png": "[encoded data removed]",
      "text/plain": [
       "<matplotlib.figure.Figure at 0x11b80e1d0>"
      ]
     },
     "metadata": {},
     "output_type": "display_data"
    }
   ],
   "source": [
    "clusters = kmeans_best_result['clusters']\n",
    "\n",
    "cls = MiniBatchKMeans(n_clusters=clusters, init='k-means++', random_state=1)\n",
    "cls.fit(X_transformed)\n",
    "\n",
    "eval_cluster(cls.labels_, y, X_transformed)\n",
    "plot_cluster(X_transformed, 'Housing Prices (normalized)', 'Unemployment (normalized)')"
   ]
  },
  {
   "cell_type": "markdown",
   "metadata": {},
   "source": [
    "### Agglomerative"
   ]
  },
  {
   "cell_type": "code",
   "execution_count": 204,
   "metadata": {
    "collapsed": false
   },
   "outputs": [
    {
     "name": "stdout",
     "output_type": "stream",
     "text": [
      "Agglomerative, clusters = 44 link = ward Average Accuracy = 99.8157666795 +/- 0.447247900634\n",
      "Agglomerative, clusters = 45 link = ward Average Accuracy = 99.8157666795 +/- 0.447247900634\n",
      "Agglomerative, clusters = 46 link = ward Average Accuracy = 99.8047443593 +/- 0.479442872192\n",
      "Agglomerative, clusters = 47 link = ward Average Accuracy = 99.7937220391 +/- 0.511749058167\n",
      "Agglomerative, clusters = 44 link = complete Average Accuracy = 85.9905473372 +/- 1.06539362044\n",
      "Agglomerative, clusters = 45 link = complete Average Accuracy = 84.8173993455 +/- 0.963114300844\n",
      "Agglomerative, clusters = 46 link = complete Average Accuracy = 85.5404792306 +/- 1.68418138455\n",
      "Agglomerative, clusters = 47 link = complete Average Accuracy = 85.4740777028 +/- 1.22601772776\n",
      "Agglomerative, clusters = 44 link = average Average Accuracy = 80.5938373612 +/- 2.08476677654\n",
      "Agglomerative, clusters = 45 link = average Average Accuracy = 81.0407640097 +/- 1.42802089865\n",
      "Agglomerative, clusters = 46 link = average Average Accuracy = 80.7925497268 +/- 1.90002251133\n",
      "Agglomerative, clusters = 47 link = average Average Accuracy = 85.5553912281 +/- 1.81289609304\n",
      "best clusters = 47 best link =  ward\n"
     ]
    }
   ],
   "source": [
    "from sklearn.cluster import AgglomerativeClustering\n",
    "\n",
    "\n",
    "agg_best_result = {'acc':0, 'link':None, 'clusters':0}\n",
    "for link in ['ward', 'complete', 'average']:\n",
    "    for clusters in range(44, 48):\n",
    "\n",
    "        # append on the clustering\n",
    "        cls = AgglomerativeClustering(n_clusters=clusters, linkage=link)\n",
    "        cls.fit(X_transformed)\n",
    "        X_new = pd.get_dummies(cls.labels_)\n",
    "\n",
    "        acc = cross_val_score(clf, X=X_new, y=y, cv=skf)\n",
    "        \n",
    "        mean, std = store_best_result(agg_best_result, acc, {'clusters':clusters, 'link':link})\n",
    "        print('Agglomerative, clusters =',  clusters, 'link =', link, 'Average Accuracy =', mean, '+/-', std)\n",
    "        \n",
    "print('best clusters =', agg_best_result['clusters'], 'best link = ', agg_best_result['link'])       "
   ]
  },
  {
   "cell_type": "markdown",
   "metadata": {},
   "source": [
    "#### Visualize best cluster"
   ]
  },
  {
   "cell_type": "code",
   "execution_count": 205,
   "metadata": {
    "collapsed": false
   },
   "outputs": [
    {
     "name": "stdout",
     "output_type": "stream",
     "text": [
      "Estimated number of clusters: 47\n",
      "Homogeneity: 0.998\n",
      "Completeness: 0.996\n",
      "V-measure: 0.997\n",
      "Adjusted Rand Index: 0.997\n",
      "Adjusted Mutual Information: 0.996\n"
     ]
    },
    {
     "data": {
      "image/png": "[encoded data removed]",
      "text/plain": [
       "<matplotlib.figure.Figure at 0x12fb4ed50>"
      ]
     },
     "metadata": {},
     "output_type": "display_data"
    }
   ],
   "source": [
    "clusters = agg_best_result['clusters']\n",
    "link = agg_best_result['link']\n",
    "\n",
    "cls = AgglomerativeClustering(n_clusters=clusters, linkage=link)\n",
    "cls.fit(X_transformed)\n",
    "\n",
    "eval_cluster(cls.labels_, y, X_transformed)\n",
    "plot_cluster(X_transformed, 'Housing Prices (normalized)', 'Unemployment (normalized)')"
   ]
  },
  {
   "cell_type": "markdown",
   "metadata": {},
   "source": [
    "### Mean Shift\n",
    "\n",
    "Code adopted from `scikit-learn` demo page."
   ]
  },
  {
   "cell_type": "code",
   "execution_count": 207,
   "metadata": {
    "collapsed": false
   },
   "outputs": [
    {
     "name": "stdout",
     "output_type": "stream",
     "text": [
      "Mean Shift, clusters = 47 Average Accuracy = 8.8959405572 +/- 2.38044763431\n"
     ]
    }
   ],
   "source": [
    "from sklearn.cluster import MeanShift, estimate_bandwidth\n",
    "\n",
    "ms_best_result = {'acc':0, 'link':None, 'clusters':0}\n",
    "bandwidth = estimate_bandwidth(X_transformed, quantile=0.2, n_samples=1000, n_jobs=-1, random_state=1)\n",
    "cls = MeanShift(bandwidth=bandwidth, bin_seeding=True)\n",
    "cls.fit(X_transformed)\n",
    "\n",
    "X_new = pd.get_dummies(cls.labels_)\n",
    "\n",
    "acc = cross_val_score(clf, X=X_new, y=y, cv=skf)\n",
    "\n",
    "mean, std = store_best_result(ms_best_result, acc, {'clusters':cls.cluster_centers_})\n",
    "print('Mean Shift, clusters =',  clusters, 'Average Accuracy =', mean, '+/-', std)"
   ]
  },
  {
   "cell_type": "markdown",
   "metadata": {},
   "source": [
    "#### Visualize best cluster"
   ]
  },
  {
   "cell_type": "code",
   "execution_count": 208,
   "metadata": {
    "collapsed": false
   },
   "outputs": [
    {
     "name": "stdout",
     "output_type": "stream",
     "text": [
      "Estimated number of clusters: 6\n",
      "Homogeneity: 0.358\n",
      "Completeness: 0.998\n",
      "V-measure: 0.527\n",
      "Adjusted Rand Index: 0.137\n",
      "Adjusted Mutual Information: 0.357\n"
     ]
    },
    {
     "data": {
      "image/png": "[encoded data removed]",
      "text/plain": [
       "<matplotlib.figure.Figure at 0x115eda8d0>"
      ]
     },
     "metadata": {},
     "output_type": "display_data"
    }
   ],
   "source": [
    "eval_cluster(cls.labels_, y, X_transformed)\n",
    "plot_cluster(X_transformed, 'Housing Prices (normalized)', 'Unemployment (normalized)')"
   ]
  },
  {
   "cell_type": "code",
   "execution_count": null,
   "metadata": {
    "collapsed": true
   },
   "outputs": [],
   "source": []
  }
 ],
 "metadata": {
  "anaconda-cloud": {},
  "kernelspec": {
   "display_name": "Python [conda env:py2]",
   "language": "python",
   "name": "conda-env-py2-py"
  },
  "language_info": {
   "codemirror_mode": {
    "name": "ipython",
    "version": 2
   },
   "file_extension": ".py",
   "mimetype": "text/x-python",
   "name": "python",
   "nbconvert_exporter": "python",
   "pygments_lexer": "ipython2",
   "version": "2.7.12"
  },
  "nbpresent": {
   "slides": {},
   "themes": {
    "default": "cb59102b-739b-46ff-bf8b-c9d58641059b",
    "theme": {
     "8100c8f4-ae13-4c61-98d1-f3588e841503": {
      "id": "8100c8f4-ae13-4c61-98d1-f3588e841503",
      "palette": {
       "19cc588f-0593-49c9-9f4b-e4d7cc113b1c": {
        "id": "19cc588f-0593-49c9-9f4b-e4d7cc113b1c",
        "rgb": [
         252,
         252,
         252
        ]
       },
       "31af15d2-7e15-44c5-ab5e-e04b16a89eff": {
        "id": "31af15d2-7e15-44c5-ab5e-e04b16a89eff",
        "rgb": [
         68,
         68,
         68
        ]
       },
       "50f92c45-a630-455b-aec3-788680ec7410": {
        "id": "50f92c45-a630-455b-aec3-788680ec7410",
        "rgb": [
         155,
         177,
         192
        ]
       },
       "c5cc3653-2ee1-402a-aba2-7caae1da4f6c": {
        "id": "c5cc3653-2ee1-402a-aba2-7caae1da4f6c",
        "rgb": [
         43,
         126,
         184
        ]
       },
       "efa7f048-9acb-414c-8b04-a26811511a21": {
        "id": "efa7f048-9acb-414c-8b04-a26811511a21",
        "rgb": [
         25.118061674008803,
         73.60176211453744,
         107.4819383259912
        ]
       }
      },
      "rules": {
       "blockquote": {
        "color": "50f92c45-a630-455b-aec3-788680ec7410"
       },
       "code": {
        "font-family": "Anonymous Pro"
       },
       "h1": {
        "color": "c5cc3653-2ee1-402a-aba2-7caae1da4f6c",
        "font-family": "Lato",
        "font-size": 8
       },
       "h2": {
        "color": "c5cc3653-2ee1-402a-aba2-7caae1da4f6c",
        "font-family": "Lato",
        "font-size": 6
       },
       "h3": {
        "color": "50f92c45-a630-455b-aec3-788680ec7410",
        "font-family": "Lato",
        "font-size": 5.5
       },
       "h4": {
        "color": "c5cc3653-2ee1-402a-aba2-7caae1da4f6c",
        "font-family": "Lato",
        "font-size": 5
       },
       "h5": {
        "font-family": "Lato"
       },
       "h6": {
        "font-family": "Lato"
       },
       "h7": {
        "font-family": "Lato"
       },
       "pre": {
        "font-family": "Anonymous Pro",
        "font-size": 4
       }
      },
      "text-base": {
       "font-family": "Merriweather",
       "font-size": 4
      }
     },
     "cb59102b-739b-46ff-bf8b-c9d58641059b": {
      "backgrounds": {
       "dc7afa04-bf90-40b1-82a5-726e3cff5267": {
        "background-color": "31af15d2-7e15-44c5-ab5e-e04b16a89eff",
        "id": "dc7afa04-bf90-40b1-82a5-726e3cff5267"
       }
      },
      "id": "cb59102b-739b-46ff-bf8b-c9d58641059b",
      "palette": {
       "19cc588f-0593-49c9-9f4b-e4d7cc113b1c": {
        "id": "19cc588f-0593-49c9-9f4b-e4d7cc113b1c",
        "rgb": [
         252,
         252,
         252
        ]
       },
       "31af15d2-7e15-44c5-ab5e-e04b16a89eff": {
        "id": "31af15d2-7e15-44c5-ab5e-e04b16a89eff",
        "rgb": [
         68,
         68,
         68
        ]
       },
       "50f92c45-a630-455b-aec3-788680ec7410": {
        "id": "50f92c45-a630-455b-aec3-788680ec7410",
        "rgb": [
         197,
         226,
         245
        ]
       },
       "c5cc3653-2ee1-402a-aba2-7caae1da4f6c": {
        "id": "c5cc3653-2ee1-402a-aba2-7caae1da4f6c",
        "rgb": [
         43,
         126,
         184
        ]
       },
       "efa7f048-9acb-414c-8b04-a26811511a21": {
        "id": "efa7f048-9acb-414c-8b04-a26811511a21",
        "rgb": [
         25.118061674008803,
         73.60176211453744,
         107.4819383259912
        ]
       }
      },
      "rules": {
       "a": {
        "color": "19cc588f-0593-49c9-9f4b-e4d7cc113b1c"
       },
       "blockquote": {
        "color": "50f92c45-a630-455b-aec3-788680ec7410",
        "font-size": 3
       },
       "code": {
        "font-family": "Anonymous Pro"
       },
       "h1": {
        "color": "19cc588f-0593-49c9-9f4b-e4d7cc113b1c",
        "font-family": "Merriweather",
        "font-size": 8
       },
       "h2": {
        "color": "19cc588f-0593-49c9-9f4b-e4d7cc113b1c",
        "font-family": "Merriweather",
        "font-size": 6
       },
       "h3": {
        "color": "50f92c45-a630-455b-aec3-788680ec7410",
        "font-family": "Lato",
        "font-size": 5.5
       },
       "h4": {
        "color": "c5cc3653-2ee1-402a-aba2-7caae1da4f6c",
        "font-family": "Lato",
        "font-size": 5
       },
       "h5": {
        "font-family": "Lato"
       },
       "h6": {
        "font-family": "Lato"
       },
       "h7": {
        "font-family": "Lato"
       },
       "li": {
        "color": "50f92c45-a630-455b-aec3-788680ec7410",
        "font-size": 3.25
       },
       "pre": {
        "font-family": "Anonymous Pro",
        "font-size": 4
       }
      },
      "text-base": {
       "color": "19cc588f-0593-49c9-9f4b-e4d7cc113b1c",
       "font-family": "Lato",
       "font-size": 4
      }
     }
    }
   }
  }
 },
 "nbformat": 4,
 "nbformat_minor": 0
}
