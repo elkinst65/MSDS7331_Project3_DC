{
 "cells": [
  {
   "cell_type": "markdown",
   "metadata": {},
   "source": [
    "# MSDS 7331 - Lab Three: Clustering, Association Rules, or Recommenders\n",
    "\n",
    "### Investigators\n",
    "- [Matt Baldree](mailto:mbaldree@smu.edu?subject=lab2)\n",
    "- [Ben Brock](bbrock@smu.edu?subject=lab2)\n",
    "- [Tom Elkins](telkins@smu.edu?subject=lab2)\n",
    "- [Austin Kelly](ajkelly@smu.edu?subject=lab2)\n",
    "\n",
    "<div style='margin-left:10%;margin-right:10%;margin-top:15px;background-color:#d3d3d3;padding:5px;'>\n",
    "    <h3>CRISP-DM Capstone: Association Rule Mining, Clustering, or Collaborative Filtering</h3>\n",
    "    <h3>Lab Instructions</h3>\n",
    "    <p>In the final assignment for this course, you will be using one of three different analysis methods:</p>\n",
    "    <ul>\n",
    "    <li>Option A: Use transaction data for mining associations rules</li>\n",
    "    <li>Option B: Use clustering on an unlabeled dataset to provide insight or features</li>\n",
    "    <li>Option C: Use collaborative filtering to build a custom recommendation system</li>\n",
    "    </ul>\n",
    "    <p>This report is worth 20% of the final grade. Please upload a report (one per team) with all code used, visualizations, and text in a single document. The results should be reproducible using your report. Please carefully describe every assumption and every step in your report.</p>\n",
    "    <p>Your choice of dataset will largely determine the task that you are trying to achieve. Though the dataset does not need to change from your previous tasks. For example, you might choose to use clustering on your data as a preprocessing step that extracts different features. Then you can use those features to build a classifier and analyze its performance in terms of accuracy (precision, recall) and speed. Alternatively, you might choose a completely different dataset and perform rule mining or build a recommendation system.</p>\n",
    "    <p>Note that scikit-learn can be used for clustering analysis, but not for Association Rule Mining (you should use R) or collaborative filtering (you should use graphlabcreate from Dato). Both can be run using iPython notebooks as shown in lecture.</p>\n",
    "     <p>Write a report covering in detail all the steps of the project. The results need to be reproducible using only this report. Describe all assumptions you make and include all code you use in the iPython notebook or as supplemental functions. Follow the CRISP-DM framework in your analysis (you are performing all of the CRISP-DM outline). This report is worth 20% of the final grade.</p>\n",
    "    <p>Report Sections:</p>\n",
    "    <ol>\n",
    "        <li>[Business Understanding](#business_understanding) <b>(10 points)</b></li>\n",
    "        <li>[Data Understanding](#data_understanding) <b>(20 points)</b></li>\n",
    "        <li>[Modeling and Evaluation](#modeling_and_evaluation) <b>(50 points)</b></li>\n",
    "        <li>[Deployment](#deployment) <b>(10 points)</b></li>\n",
    "        <li>[Exceptional Work](#exceptional_work) <b>(10 points)</b></li>\n",
    "    </ol>\n",
    "</div>"
   ]
  },
  {
   "cell_type": "markdown",
   "metadata": {},
   "source": [
    "<a id='business_understanding'></a>\n",
    "## 1 - Business Understanding\n",
    "<div style='margin-left:10%;margin-right:10%;margin-top:15px;background-color:#d3d3d3;padding:10px;'>\n",
    "<h3>Business Understanding (<b>10 points total</b>)</h3>\n",
    "    <ul>\n",
    "    <li>Describe the purpose of the data set you selected (i.e., why was this data collected in the first place?).</li>\n",
    "    <li>How will you measure the effectiveness of a good algorithm?</li>\n",
    "    <li>Why does your chosen validation method make sense for this specific dataset and the stakeholders needs?</li>\n",
    "    </ul>\n",
    "</div>"
   ]
  },
  {
   "cell_type": "code",
   "execution_count": null,
   "metadata": {
    "collapsed": true
   },
   "outputs": [],
   "source": []
  },
  {
   "cell_type": "markdown",
   "metadata": {},
   "source": [
    "<a id='data_understanding'></a>\n",
    "## 2 - Data Understanding\n",
    "<div style='margin-left:10%;margin-right:10%;margin-top:15px;background-color:#d3d3d3;padding:10px;'>\n",
    "<h3>Data Understanding (<b>20 points total</b>)</h3>\n",
    "    <ul>\n",
    "    <li>[<b>10 points total</b>] [2.1 - Describe the meaning and type of data](#define_meaning).</li>\n",
    "        <ul>\n",
    "        <li>Describe the meaning and type of data (scale, values, etc.) for each attribute in the data file.</li>\n",
    "        <li>Verify data quality: Are there missing values? Duplicate data? Outliers? Are those mistakes? How do you deal with these problems?</li>\n",
    "        </ul>\n",
    "    <li>[<b>10 points total</b>] [2.2 - Visualize data](#visualize_data).</li>\n",
    "        <ul>\n",
    "        <li>Visualize any important attributes appropriately. Important: Provide an interpretation for any charts or graphs.</li>\n",
    "        </ul>\n",
    "    </ul>\n",
    "</div>"
   ]
  },
  {
   "cell_type": "markdown",
   "metadata": {},
   "source": [
    "<a id='define_meaning'></a>\n",
    "### 2.1 - Describe the meaning and type of data (10 points)\n",
    "<ul>\n",
    "<li>Describe the meaning and type of data (scale, values, etc.) for each attribute in the data file.</li>\n",
    "<li>Verify data quality: Are there missing values? Duplicate data? Outliers? Are those mistakes? How do you deal with these problems?</li>\n",
    "</ul>"
   ]
  },
  {
   "cell_type": "markdown",
   "metadata": {},
   "source": [
    "<a id='define_meaning'></a>\n",
    "### 2.2 - Visualize data (10 points)\n",
    "<ul>\n",
    "<li>Describe the meaning and type of data (scale, values, etc.) for each attribute in the data file.</li>\n",
    "<li>Verify data quality: Are there missing values? Duplicate data? Outliers? Are those mistakes? How do you deal with these problems?</li>\n",
    "</ul>"
   ]
  },
  {
   "cell_type": "markdown",
   "metadata": {},
   "source": []
  },
  {
   "cell_type": "code",
   "execution_count": 1,
   "metadata": {
    "collapsed": false
   },
   "outputs": [],
   "source": [
    "# generic imports\n",
    "import pandas as pd\n",
    "import numpy as np\n",
    "from __future__ import print_function\n",
    "\n",
    "# plotting setup\n",
    "%matplotlib inline\n",
    "import matplotlib.pyplot as plt\n",
    "plt.style.use('ggplot')\n",
    "\n",
    "import seaborn as sns\n",
    "sns.set(font_scale=1)\n",
    "cmap = sns.diverging_palette(220, 10, as_cmap=True) # one of the many color mappings\n",
    "\n",
    "# scikit imports\n",
    "from sklearn import metrics\n",
    "from sklearn.preprocessing import StandardScaler\n",
    "from sklearn.linear_model import LogisticRegression\n",
    "from sklearn.model_selection import train_test_split\n",
    "from sklearn.model_selection import cross_val_score\n",
    "from sklearn.model_selection import StratifiedKFold\n",
    "from sklearn.model_selection import GridSearchCV\n",
    "from sklearn.model_selection import train_test_split\n",
    "from sklearn.pipeline import Pipeline\n",
    "from sklearn.decomposition import PCA\n",
    "from sklearn.neighbors import KNeighborsClassifier\n",
    "from sklearn.ensemble import RandomForestClassifier\n",
    "from sklearn.naive_bayes import GaussianNB\n",
    "from sklearn.ensemble import VotingClassifier\n",
    "from sklearn.linear_model import SGDClassifier\n",
    "\n",
    "# Read in the crime data from the CSV file\n",
    "df = pd.read_csv('data/DC_Crime_2015_Lab2_Weather.csv')\n",
    "#df_foodstamps = pd.read_csv('data/foodstamps.csv')\n",
    "df_anc_data = pd.read_csv('data/ANC Data Unemployment and Housing Master.csv')"
   ]
  },
  {
   "cell_type": "code",
   "execution_count": 2,
   "metadata": {
    "collapsed": false
   },
   "outputs": [
    {
     "name": "stdout",
     "output_type": "stream",
     "text": [
      "<class 'pandas.core.frame.DataFrame'>\n",
      "RangeIndex: 36489 entries, 0 to 36488\n",
      "Data columns (total 33 columns):\n",
      "REPORT_DAT              36489 non-null object\n",
      "SHIFT                   36489 non-null object\n",
      "OFFENSE                 36489 non-null object\n",
      "METHOD                  36489 non-null object\n",
      "DISTRICT                36442 non-null float64\n",
      "PSA                     36441 non-null float64\n",
      "WARD                    36489 non-null int64\n",
      "ANC                     36489 non-null int64\n",
      "NEIGHBORHOOD_CLUSTER    36489 non-null int64\n",
      "CENSUS_TRACT            36489 non-null int64\n",
      "VOTING_PRECINCT         36489 non-null int64\n",
      "CCN                     36489 non-null int64\n",
      "XBLOCK                  36489 non-null float64\n",
      "YBLOCK                  36489 non-null float64\n",
      "START_DATE              36489 non-null object\n",
      "END_DATE                36489 non-null object\n",
      "PSA_ID                  36489 non-null int64\n",
      "DistrictID              36489 non-null int64\n",
      "SHIFT_Code              36489 non-null int64\n",
      "OFFENSE_Code            36489 non-null int64\n",
      "METHOD_Code             36489 non-null int64\n",
      "CRIME_TYPE              36489 non-null int64\n",
      "AGE                     36489 non-null int64\n",
      "TIME_TO_REPORT          36489 non-null int64\n",
      "Latitude                36489 non-null float64\n",
      "Longitude               36489 non-null float64\n",
      "Max_Temp                36489 non-null int64\n",
      "Min_Temp                36489 non-null int64\n",
      "Max_Humidity            36489 non-null int64\n",
      "Min_Humidity            36489 non-null int64\n",
      "Max_Pressure            36489 non-null float64\n",
      "Min_Pressure            36489 non-null float64\n",
      "Precipitation           36489 non-null float64\n",
      "dtypes: float64(9), int64(18), object(6)\n",
      "memory usage: 9.2+ MB\n"
     ]
    }
   ],
   "source": [
    "# how is the data represented?\n",
    "df.info()"
   ]
  },
  {
   "cell_type": "code",
   "execution_count": 3,
   "metadata": {
    "collapsed": false,
    "scrolled": true
   },
   "outputs": [
    {
     "name": "stdout",
     "output_type": "stream",
     "text": [
      "<class 'pandas.core.frame.DataFrame'>\n",
      "RangeIndex: 85 entries, 0 to 84\n",
      "Data columns (total 6 columns):\n",
      "YR                85 non-null int64\n",
      "ANC               85 non-null int64\n",
      "ANC2              85 non-null object\n",
      "ANC3              85 non-null object\n",
      "Housing_Prices    85 non-null int64\n",
      "Unemployment      85 non-null float64\n",
      "dtypes: float64(1), int64(3), object(2)\n",
      "memory usage: 4.1+ KB\n"
     ]
    }
   ],
   "source": [
    "df_anc_data.info()"
   ]
  },
  {
   "cell_type": "code",
   "execution_count": null,
   "metadata": {
    "collapsed": true
   },
   "outputs": [],
   "source": []
  },
  {
   "cell_type": "markdown",
   "metadata": {},
   "source": [
    "<a id='modeling_and_evaluation'></a>\n",
    "## 3 - Model and Evaluation\n",
    "<div style='margin-left:10%;margin-right:10%;margin-top:15px;background-color:#d3d3d3;padding:10px;'>\n",
    "<h3>Model and Evaluation (<b>50 points total</b>)</h3>\n",
    "<p>Different tasks will require different evaluation methods. Be as thorough as possible when analyzing the data you have chosen and use visualizations of the results to explain the performance and expected outcomes whenever possible. Guide the reader through your analysis with plenty of discussion of the results.</p>\n",
    "<p><ul>\n",
    "    <li><b>Option A: Cluster Analysis</b><ul>\n",
    "        <li>Perform cluster analysis using several clustering methods</li>\n",
    "        <li>How did you determine a suitable number of clusters for each method?</li>\n",
    "        <li>Use internal and/or external validation measures to describe and compare the clusterings and the clusters (some visual methods would be good).</li>\n",
    "    <li>Describe your results. What findings are the most interesting and why?</li></ul>\n",
    "    <li><b>Option B: Association Rule Mining</b><ul>\n",
    "        <li>Create frequent itemsets and association rules.</li>\n",
    "        <li>Use tables/visualization to discuss the found results.</li>\n",
    "        <li>Use several measure for evaluating how interesting different rules are.</li>\n",
    "        <li>Describe your results. What findings are the most compelling and why?</li>\n",
    "    </ul></li>\n",
    "    </ul>\n",
    "</div>"
   ]
  },
  {
   "cell_type": "markdown",
   "metadata": {
    "collapsed": true
   },
   "source": [
    "## 3B - Association Rule Mining\n",
    "Using our dataset for association rule mining required a few tweaks and a different perspective on the data.  Using the grocery list paradigm, our dataset consists of 36,489 transactions in which each \"customer\" (victim) \"purchased\" (experienced) the same number of \"items\" (conditions).\n",
    "\n",
    "From previous labs, we knew that time, location, and some environmental parameters were important, so we kept them, but reduced the number of variables of each type and binned the continuous variables to make all of our \"items\" categorical.\n",
    "\n",
    "* Offense code remained untouched, and was our desired \"Right-hand side\" for the rules.\n",
    "* While latitude and longitude were used for location data in previous labs, binning these values could generate cross-jurisdictional bins, which would not be helpful for the customer.  We chose Police Service Area (PSA) to act as the location item since the superset of PSAs cover all geographic areas and the interpretation of the PSA is meaningful to the end user (the police departments).\n",
    "* We saw previously that month was a factor, but it had a seasonal trend, so we grouped the month values into season bins:\n",
    "  * \"Winter\" = Dec, Jan, Feb\n",
    "  * \"Spring\" = Mar, Apr, May\n",
    "  * \"Summer\" = Jun, Jul, Aug\n",
    "  * \"Fall\" = Sep, Oct, Nov\n",
    "* We also noted previously that the hour of the crime had a cyclic trend, so we grouped hours into period bins:\n",
    "  * \"Midnight\" = 00:00 - 06:00\n",
    "  * \"Morning\" = 06:00 - 12:00\n",
    "  * \"Afternoon\" = 12:00 - 18:00\n",
    "  * \"Evening\" = 18:00 - 24:00\n",
    "* We saw that the day of the week had a trend which we grouped into Weekday and Weekend:\n",
    "  * \"Weekday\" = Mon-Fri\n",
    "  * \"Weekend\" = Sat-Sun\n",
    "* Temperature and Humidity were averaged for the day, and (with Precipitation) were binned into categories as well:\n",
    "  * \"Temp < 33\" = Average temperature between 14 - 33 degrees Fahrenheit\n",
    "  * \"Temp 33-52\" = Average temperature between 33 and 52 degrees Fahrenheit\n",
    "  * \"Temp 52-71\" = Average temperature between 52 and 71 degrees Fahrenheit\n",
    "  * \"Temp > 71\" = Average temperature between 71 and 90 degrees Fahrenheit\n",
    "  * \"Humid 0-25%\" = Average humidity between 0 and 25 percent\n",
    "  * \"Humid 25-50%\" = Average humidity between 25 and 50 percent\n",
    "  * \"Humid 50-75%\" = Average humidity between 50 and 75 percent\n",
    "  * \"Humid 75-100%\" = Average humidity between 75 and 100 percent\n",
    "  * \"Precip 0-1\" = Precipitation between 0 and 1 inches\n",
    "  * \"Precip 1-2\" = Precipitation between 1 and 2 inches\n",
    "  * \"Precip 2-3\" = Precipitation between 2 and 3 inches\n",
    "\n",
    "With these categories defined, our dataset now looks like the following:\n",
    "\n",
    "|Tx|Offense|PSA|AvgTmp|AvgHumid|Precip|Season|Weekday|Period|\n",
    "|:-:|:-----|:-:|:----:|:------:|:----:|:----:|:-----:|:----:|\n",
    "|1|Theft/Other|305|Temp>71|Humid 50-75%|Precip 0-1|Winter|Weekday|Afternoon|\n",
    "|2|Theft/Auto|408|Temp 52-71|Humid 50-75%|Precip 0-1|Winter|Weekday|Morning|\n",
    "|3|Theft/Other|302|Temp 33-52|Humid 50-75%|Precip 0-1|Spring|Weekend|Evening|\n",
    "|...|...|...|...|...|...|...|...|...|\n",
    "|36487|Robbery|704|Temp 33-52|Humid 50-75%|Precip 0-1|Spring|Weekday|Afternoon|\n",
    "|36488|Theft/Other|707|Temp 33-52|Humid 50-75%|Precip 0-1|Spring|Weekday|Afternoon|\n",
    "|36489|Theft/Other|707|Temp 33-52|Humid 25-50%|Precip 0-1|Spring|Weekday|Afternoon|\n",
    "\n",
    "## Creating Frequent Itemsets\n",
    "We had great difficulting trying to get the arules and arulesViz libraries to work on our machines.  So while one part of the Association Rules team worked on trying to get those (and related) libraries to work, the other part of the Association Rules team worked on developing custom software to implement frequent itemset generation.\n",
    "\n",
    "The custom code was written in VBScript for ease of deployment - VBScript runs on any Windows computer and requires no special installation of any other tools or environments.  The code opens the transaction file and makes a single pass through the file.  The code uses a dictionary object to store the counts for each itemset, and a recursive function to generate the itemsets from the labels in the transaction.  This ensures that only itemsets that exist in the data are generated, although it will also generate rare itemsets.  In many cases, we need the additional itemsets in order to calculate Lift (which requires knowing the support for \"left-hand\" itemset).  And for project time constraints, we felt this was an acceptable side effect.\n",
    "\n",
    "After the single pass through the transaction data, the code then makes a pass through the itemsets that were generated and counted, and can compute the support, confidence, and lift.  The code generates a CSV file of all rules.  We can then apply filters within Excel.\n",
    "\n",
    "## Generating Visualization\n",
    "The code then harvests the dictionary of itemsets found and generate visualizations from them.  The first visualization is a Support versus Confidence scatter plot.  The X coordinate is based on the support value: 0 at the left edge, 1 at the right edge.  The Y coordinate is based on the confidence value: 0 at the bottom edge, 1 at the top edge.  The \"dot\" is shaded based on all three attributes: Support = red, Confidence = green, Lift = blue.  Points that are black have low support, low confidence, and low lift; reddish points are higher in support, but lower in confidence and lift; greenish points are higher in confidence but lower in support and lift; bluish points are higher in lift, but lower in confidence and support.  The second visualization is a Support versus Lift scatter plot.  X-axis is support, and Y-axis is lift; colors are the same as the previous plot.  The third visualization is a matrix of the top rules (support > 20%, confidence > 20%).  The columns are the itemsets and the rows are the targets.  Points are placed where the itemsets are linked to the targets.  The color of the point is based on the support, and the size of the point is based on the confidence.\n",
    "\n",
    "The visualization uses Scalable Vector Graphics (SVG) wrapped in HTML.  The visualizations can be rendered in modern web browsers.  The user can hover the mouse over the points of the scatter plot to see the rule associated with it.  Jupyter Notebooks, however, cannot render SVG, so the images are presented here as embedded graphics, with links to the HTML so the reader can interact with them.\n",
    "\n",
    "The code is listed below."
   ]
  },
  {
   "cell_type": "markdown",
   "metadata": {},
   "source": [
    "```VBScript\n",
    "Dim goFSO\t: Set goFSO = CreateObject(\"Scripting.FileSystemObject\")  '  Access to file system\n",
    "Dim goRules : Set goRules = CreateObject(\"Scripting.Dictionary\")      '  Dictionary storing itemsets/rules\n",
    "Dim gaItems   '  Array of items\n",
    "Dim gnRules   '  Number of rules found\n",
    "Dim gnTx      '  Number of transactions\n",
    "Dim goTopCol : Set goTopCol = CreateObject(\"Scripting.Dictionary\")  ' Store columns for top rules\n",
    "Dim goTopRow : Set goTopRow = CreateObject(\"Scripting.Dictionary\")  ' Store rows for top rules\n",
    "Dim goTopRule: Set goTopRule = CreateObject(\"Scripting.Dictionary\") ' Store details for top rules\n",
    "'\n",
    "'\tProcess files that are dragged/dropped onto this script\n",
    "For Each sFile In WScript.Arguments\n",
    "\tpdStart = Timer  ' Keep track of how long these operations take\n",
    "\t\n",
    "\tgnRules = 0\n",
    "\tgnTx = 0\n",
    "\t'\n",
    "    '  Build the itemsets from the transaction data\n",
    "\tGenerateItemsets sFile\n",
    "    '\n",
    "    '  Build rules and visualization from itemsets\n",
    "\tGenerateRules sFile\n",
    "\t\n",
    "\tMsgBox \"Processed \" & gnTx & \" transactions in file '\" & sFile & \"': Generated \" & gnRules & \" rules in \" & Round(Timer-pdStart,2) & \" seconds.\"\n",
    "Next\n",
    "'  End of main process\n",
    "'\n",
    "\n",
    "Sub GenerateItemsets(xsFile)\n",
    "\tDim goData\t: Set goData = goFSO.OpenTextFile(xsFile)  '  Open the transaction data file\n",
    "\n",
    "\tgoData.Readline\t\t'\tSkip over the field header\n",
    "\t'\n",
    "\t'\tLoop through the file\n",
    "\tWhile Not goData.AtEndOfStream\n",
    "\t\t'\n",
    "\t\t'\tRead a transaction\n",
    "\t\tpsTransaction = goData.Readline\n",
    "\t\t'\n",
    "\t\t'\tBreak the transaction into individual items\n",
    "\t\tgaItems = Split(psTransaction,\",\")\n",
    "\t\t'\n",
    "        '   Build rule groups recursively\n",
    "\t\tRuler \"\", 1\n",
    "        '\n",
    "        '   Increment transaction count\n",
    "\t\tgnTx = gnTx + 1\n",
    "\tWEnd\n",
    "\t'\n",
    "\t'\tClose the input file\n",
    "\tgoData.Close\n",
    "End Sub\n",
    "\n",
    "Sub GenerateRules(xsFile)\n",
    "\t'\n",
    "\t'\tGet the input file's extension\n",
    "\tpsExt = goFSO.GetExtensionName(xsFile)\n",
    "\t\n",
    "\t'\tReplace the file extension with the _Rules indicator and CSV extension and HTML output files\n",
    "\tDim goRuleFile: Set goRuleFile = goFSO.CreateTextFile(Replace(xsFile,\".\" & psExt,\"_Rules.csv\"))\n",
    "\tDim goSupVConf: Set goSupVConf = goFSO.CreateTextFile(Replace(xsFile,\".\" & psExt,\"_SvC.htm\"))\n",
    "\tDim goSupVLift: Set goSupVLift = goFSO.CreateTextFile(Replace(xsFile,\".\" & psExt,\"_SvL.htm\"))\n",
    "\tDim goTopRules: Set goTopRules = goFSO.CreateTextFile(Replace(xsFile,\".\" & psExt,\"_TopRules.csv\"))\n",
    "\tDim goRuleMatx: Set goRUleMatx = goFSO.CreateTextFile(Replace(xsFile,\".\" & psExt,\"_RuleMatrix.htm\"))\n",
    "\t\n",
    "\tSetupSVC goSupVConf, xsFile\n",
    "\tSetupSVL goSupVLift, xsFile\n",
    "\t\n",
    "\t'\tWrite the field header\n",
    "\tgoRuleFile.Writeline \"LHS,RHS,Count,Support,Confidence,Lift\"\n",
    "\tpnTopRules = 0\n",
    "\n",
    "\t'\tLoop through the itemsets found in the previous step\n",
    "\tFor Each psRule In goRules.Keys\n",
    "\t\t'\n",
    "\t\t'\tIgnore itemsets that appear only once\n",
    "\t\tpnCnt = goRules(psRule)\n",
    "\t\tIf pnCnt > 1 Then\n",
    "\t\t\t'\n",
    "\t\t\t'\tLook for a multi-item set\n",
    "\t\t\tpnMult = InStr(2,psRule,\":\")\n",
    "\t\t\t\n",
    "\t\t\t'\tDo we have a multi-item set?\n",
    "\t\t\tIf pnMult > 0 Then\n",
    "\t\t\t\t'\n",
    "\t\t\t\t'\tSeparate the left-most item and make it our target\n",
    "\t\t\t\tsLHS = Left(psRule,pnMult-1)\n",
    "\t\t\t\tsRHS = Mid(psRule,pnMult)\n",
    "\t\t\t\t'\n",
    "                '   Calculate support, confidence, and lift\n",
    "\t\t\t\tpdSup = Support(psRule)\n",
    "\t\t\t\tpdCnf = CDbl(pnCnt) / CDbl(goRules(sRHS))\n",
    "\t\t\t\tpdLft = Lift(sLHS,sRHS)\n",
    "\t\t\t\t'\n",
    "                '  Create color based on support, confidence, and lift\n",
    "\t\t\t\tpsRed = Right(\"0\" & Hex(Round(pdSup * 255,0)), 2)\n",
    "\t\t\t\tpsGrn = Right(\"0\" & Hex(Round(pdCnf * 255,0)), 2)\n",
    "\t\t\t\tpsBlu = Right(\"0\" & Hex(Round(pdLft * 20.0,0)), 2)\n",
    "\t\t\t\t\n",
    "\t\t\t\tpsItm = Mid(sRHS,2)\n",
    "\t\t\t\tpsTgt = Mid(sLHS,2)\n",
    "\t\t\t\t\n",
    "\t\t\t\t'\n",
    "\t\t\t\t'\tWrite the rule, the count, the support, the confidence, and the lift for this rule\n",
    "\t\t\t\tgoRuleFile.Write \"{\" & psItm & \"},{\" & psTgt & \"},\" & pnCnt & \",\" & pdSup & \",\" & pdCnf & \",\" & pdLft\n",
    "\t\t\t\t\n",
    "\t\t\t\tIf (pdSup > 0.2) and (pdCnf > 0.2) Then\n",
    "\t\t\t\t\t'\n",
    "\t\t\t\t\t'   Top rules are support > 0.2 and confidence > 0.2\n",
    "\t\t\t\t\tpnTopRules = pnTopRules + 1\n",
    "\t\t\t\t\tgoTopRules.Writeline \"{\" & psItm & \"},{\" & psTgt & \"},\" & pnCnt & \",\" & pdSup & \",\" & pdCnf & \",\" & pdLft\n",
    "\t\t\t\t\t'\n",
    "\t\t\t\t\t'\tSet the unique column (items) label\n",
    "\t\t\t\t\tgoTopCol(psItm) = psItm\n",
    "\t\t\t\t\t'\n",
    "\t\t\t\t\t'\tSet the unique row (target) label\n",
    "\t\t\t\t\tgoTopRow(psTgt) = psTgt\n",
    "\t\t\t\t\t'\n",
    "\t\t\t\t\t'\tSave the rule\n",
    "\t\t\t\t\tgoTopRule(psItm & \"-->\" & psTgt) = pnCnt & \",\" & pdSup & \",\" & pdCnf & \",\" & pdLft\n",
    "\t\t\t\tEnd If\n",
    "\t\t\t\t\n",
    "\t\t\t\tIf Int(pdSup * 100) > 0 Then\n",
    "\t\t\t\t\t'\n",
    "\t\t\t\t\t'\tSupport v Confidence\n",
    "\t\t\t\t\tgoSupVConf.Writeline \"    <circle cx='\" & Round(pdSup * 500,0) + 100 & \"' cy='\" & 500 - Round(pdCnf * 500,0) & \"' r='5' style='fill:#\" & psRed & psGrn & psBlu & \";stroke:#A9A9A9;stroke-width:1;fill-opacity:0.5;stroke-opacity:0.3;'><title>{\" & Mid(sRHS,2) & \"}&rarr;{\" & Mid(sLHS,2) & \"}</title></circle>\"\n",
    "\t\t\t\t\t'\n",
    "\t\t\t\t\t'\tSupport v Lift\n",
    "\t\t\t\t\tgoSupVLift.Writeline \"    <circle cx='\" & Round(pdSup * 500,0) + 100 & \"' cy='\" & 500 - Round(pdLft / 20 * 500,0) & \"' r='5' style='fill:#\" & psRed & psGrn & psBlu & \";stroke:#A9A9A9;stroke-width:1;fill-opacity:0.5;stroke-opacity:0.3;'><title>{\" & Mid(sRHS,2) & \"}&rarr;{\" & Mid(sLHS,2) & \"}</title></circle>\"\n",
    "\t\t\t\tEnd If\n",
    "\t\t\tElse\n",
    "\t\t\t\t'\n",
    "\t\t\t\t'\tWrite the null-based rule, the count, and support\n",
    "\t\t\t\tgoRuleFile.Write \"{},{\" & Mid(psRule,2) & \"},\" & goRules(psRule) & \",\" & Support(psRule)\n",
    "\t\t\tEnd If\n",
    "\t\t\t\n",
    "\t\t\tgoRuleFile.Writeline\n",
    "\t\tEnd If\n",
    "\tNext\n",
    "\tgoRuleFile.Close\n",
    "\tgoSupVConf.Writeline \"</svg></body></html>\"\n",
    "\tgoSupVConf.Close\n",
    "\tgoSupVLift.Writeline \"</svg></body></html>\"\n",
    "\tgoSupVLift.Close\n",
    "\t'\n",
    "\t'\tCreate the rule matrix plot\n",
    "\tIf goTopRule.Count > 0 Then\n",
    "\t\t'\n",
    "\t\t'\tHow many unique columns?\n",
    "\t\tpnCol = goTopCol.Count\n",
    "\t\t'\n",
    "\t\t'\tHow many unique rows?\n",
    "\t\tpnRow = goTopRow.Count\n",
    "\t\t'\n",
    "\t\t'\tSet the SVG window width to 30*Col + 300 (for row labels); height = 30 * row + 320 (for col labels)\n",
    "\t\tgoRuleMatx.Writeline \"<html><body style='font-family:Arial'><h1>Top Association Rules</h1><h3>\" & goFSO.GetBaseName(xsFile) & \"</h3><h5>Support > 20%; Color = Support; Size = Confidence</h5><svg width='\" & (30.0 * pnCol) + 350 & \"' height='\" & (30.0 * pnRow) + 320 & \"'>\"\n",
    "\t\t'\n",
    "\t\t'\tLoop through the column labels\n",
    "\t\tpiLbl = 1\n",
    "\t\tFor Each psLbl In goTopCol.Keys\n",
    "\t\t\tgoRuleMatx.Writeline \"<text x='\" & (30 * (piLbl - 1)) + 65 & \"' y='300' transform='rotate(-90 \" & (30 * (piLbl - 1)) + 65 & \",300)'>{\" & psLbl & \"}</text>\"\n",
    "\t\t\tgoRuleMatx.Writeline \"<line x1='\" & (30 * (piLbl - 1)) + 60 & \"' y1='315' x2='\" & (30 * (piLbl - 1)) + 60 & \"' y2='\" & (30 * pnRow) + 330 & \"' stroke='silver' stroke-dasharray='2,5'/>\"\n",
    "\t\t\tpiLbl = piLbl + 1\n",
    "\t\tNext\n",
    "\t\t'\n",
    "\t\t'\tLoop through the row labels\n",
    "\t\tpiLbl = 1\n",
    "\t\tFor Each psLbl In goTopRow.Keys\n",
    "\t\t\tgoRuleMatx.Writeline \"<text x='\" & (30 * pnCol) + 60 & \"' y='\" & (30 * (piLbl - 1)) + 330 & \"'>{\" & psLbl & \"}</text>\"\n",
    "\t\t\tgoRuleMatx.Writeline \"<line x1='50' y1='\" & (30 * (piLbl - 1)) + 325 & \"' x2='\" & (30 * pnCol) + 50 & \"' y2='\" & (30 * (piLbl - 1)) + 325 & \"' stroke='silver' stroke-dasharray='2,5'/>\"\n",
    "\t\t\tpiLbl = piLbl + 1\n",
    "\t\tNext\n",
    "\t\t'\n",
    "\t\t'\tLoop through the rules\n",
    "\t\tpiCol = 1\n",
    "\t\tFor Each psItm In goTopCol.Keys\n",
    "\t\t\tpiRow = 1\n",
    "\t\t\tFor Each psTgt In goTopRow.Keys\n",
    "\t\t\t\tIf goTopRule.Exists(psItm & \"-->\" & psTgt) Then\n",
    "\t\t\t\t\tpaVal = Split(goTopRule(psItm & \"-->\" & psTgt),\",\")\n",
    "\t\t\t\t\t\n",
    "\t\t\t\t\tpsRed = Right(\"0\" & Hex(255 - Round(CDbl(paVal(1)) * 255,0)), 2)\n",
    "\t\t\t\t\tpsGrn = Right(\"0\" & Hex(Round(CDbl(paVal(2)) * 255,0)), 2)\n",
    "\t\t\t\t\tpsBlu = Right(\"0\" & Hex(Round(CDbl(paVal(3)) * 20.0,0)), 2)\n",
    "\t\t\t\t\t\n",
    "\t\t\t\t\tgoRuleMatx.Writeline \"<circle cx='\" & (30 * (piCol - 1)) + 60 & \"' cy='\" & (30 * (piRow - 1)) + 325 & \"' r='\" & 30.0 * CDbl(paVal(2)) & \"' style='fill:#FF\" & psRed & psRed & \";stroke:#A9A9A9;stroke-width:1;fill-opacity:0.5;stroke-opacity:0.3;'/>\"\n",
    "\t\t\t\tEnd If\n",
    "\t\t\t\tpiRow = piRow + 1\n",
    "\t\t\tNext\n",
    "\t\t\tpiCol = piCol + 1\n",
    "\t\tNext\n",
    "\t\t'\n",
    "\t\tgoRuleMatx.Writeline \"</svg></body></html>\"\n",
    "\t\tgoRuleMatx.Close\n",
    "\tEnd If\n",
    "End Sub\n",
    "\n",
    "Function Support(sRule)\n",
    "\tSupport = CDbl(goRules(sRule)) / CDbl(gnTx)\n",
    "End Function\n",
    "\n",
    "Function Lift(sLeft, sRight)\n",
    "\tDim pdLift\n",
    "\tOn Error Resume Next\n",
    "\tpdLift = Support(sLeft & sRight) / (Support(sRight) * Support(sLeft))\n",
    "\tIf Err.Number <> 0 Then pdLift = 0.0\n",
    "\tOn Error Goto 0\n",
    "\tLift = pdLift\n",
    "End Function\n",
    "\n",
    "Sub Ruler(sPrefix, nIndex)\n",
    "\t'\n",
    "    '  Loop through the item labels\n",
    "\tFor idx = nIndex to 8\n",
    "\t\tsWord = gaItems(idx)\n",
    "\t\t\n",
    "\t\tsItem = sPrefix & \":\" & sWord\n",
    "\t\t\n",
    "\t\tIf goRules.Exists(sItem) Then\n",
    "            '\n",
    "            '  Increment the count for this itemset\n",
    "\t\t\tgoRules(sItem) = goRules(sItem) + 1\n",
    "\t\tElse\n",
    "            '\n",
    "            '  Start tracking this itemset\n",
    "\t\t\tgoRules(sItem) = 1\n",
    "\t\t\tgnRules = gnRules + 1\n",
    "\t\tEnd If\n",
    "\t\t'\n",
    "        '  Recursively generate itemsets if we aren't at the end of the items\n",
    "\t\tIf idx < 8 Then Ruler sItem,idx + 1\n",
    "\tNext\n",
    "End Sub\n",
    "\n",
    "Sub SetupSVC(goHTM, xsFile)\n",
    "\tgoHTM.Writeline \"<html><body style='font-family:Arial'>\"\n",
    "\tgoHTM.Writeline \"<h1>Support vs. Confidence</h1>\"\n",
    "\tgoHTM.Writeline \"<h3>\" & goFSO.GetBaseName(xsFile) & \"</h3>\"\n",
    "\tgoHTM.Writeline \"<svg width='620' height='600'>\"\n",
    "\tgoHTM.Writeline \"<rect x='200' y='0' width='400' height='400' style='fill:#f0f0f0;'/>\"\n",
    "\tgoHTM.Writeline \"<!-- vertical grid lines -->\"\n",
    "\tgoHTM.Writeline \"<line x1='100' y1='0' x2='100' y2='510' stroke='black'/>\"\n",
    "\tgoHTM.Writeline \"<line x1='200' y1='0' x2='200' y2='510' stroke-dasharray='5,5' stroke='silver'/>\"\n",
    "\tgoHTM.Writeline \"<line x1='300' y1='0' x2='300' y2='510' stroke-dasharray='5,5' stroke='silver'/>\"\n",
    "\tgoHTM.Writeline \"<line x1='400' y1='0' x2='400' y2='510' stroke-dasharray='5,5' stroke='silver'/>\"\n",
    "\tgoHTM.Writeline \"<line x1='500' y1='0' x2='500' y2='510' stroke-dasharray='5,5' stroke='silver'/>\"\n",
    "\tgoHTM.Writeline \"<line x1='600' y1='0' x2='600' y2='510' stroke='black'/>\"\n",
    "\tgoHTM.Writeline \"<!-- Support labels -->\"\n",
    "\tgoHTM.Writeline \"<text x='100' y='520' fill='black' text-anchor='middle'>0%</text>\"\n",
    "\tgoHTM.Writeline \"<text x='200' y='520' fill='black' text-anchor='middle'>20%</text>\"\n",
    "\tgoHTM.Writeline \"<text x='300' y='520' fill='black' text-anchor='middle'>40%</text>\"\n",
    "\tgoHTM.Writeline \"<text x='400' y='520' fill='black' text-anchor='middle'>60%</text>\"\n",
    "\tgoHTM.Writeline \"<text x='500' y='520' fill='black' text-anchor='middle'>80%</text>\"\n",
    "\tgoHTM.Writeline \"<text x='600' y='520' fill='black' text-anchor='middle'>100%</text>\"\n",
    "\tgoHTM.Writeline \"<text x='350' y='540' fill='black' text-anchor='middle'>Support</text>\"\n",
    "\tgoHTM.Writeline \"<!-- horizontal grid lines -->\"\n",
    "\tgoHTM.Writeline \"<line x1='90' y1='0' x2='600' y2='0' stroke='black'/>\"\n",
    "\tgoHTM.Writeline \"<line x1='90' y1='100' x2='600' y2='100' stroke-dasharray='5,5' stroke='silver'/>\"\n",
    "\tgoHTM.Writeline \"<line x1='90' y1='200' x2='600' y2='200' stroke-dasharray='5,5' stroke='silver'/>\"\n",
    "\tgoHTM.Writeline \"<line x1='90' y1='300' x2='600' y2='300' stroke-dasharray='5,5' stroke='silver'/>\"\n",
    "\tgoHTM.Writeline \"<line x1='90' y1='400' x2='600' y2='400' stroke-dasharray='5,5' stroke='silver'/>\"\n",
    "\tgoHTM.Writeline \"<line x1='90' y1='500' x2='600' y2='500' stroke='black'/>\"\n",
    "\tgoHTM.Writeline \"<!-- Confidence labels -->\"\n",
    "\tgoHTM.Writeline \"<text x='85' y='10' fill='black' text-anchor='end'>100%</text>\"\n",
    "\tgoHTM.Writeline \"<text x='85' y='105' fill='black' text-anchor='end'>80%</text>\"\n",
    "\tgoHTM.Writeline \"<text x='85' y='205' fill='black' text-anchor='end'>60%</text>\"\n",
    "\tgoHTM.Writeline \"<text x='85' y='305' fill='black' text-anchor='end'>40%</text>\"\n",
    "\tgoHTM.Writeline \"<text x='85' y='405' fill='black' text-anchor='end'>20%</text>\"\n",
    "\tgoHTM.Writeline \"<text x='85' y='505' fill='black' text-anchor='end'>0%</text>\"\n",
    "\tgoHTM.Writeline \"<text x='50' y='250' fill='black' transform='rotate(-90 50,250)' text-anchor='middle'>Confidence</text>\"\n",
    "End Sub\n",
    "\n",
    "Sub SetupSVL(goHTM, xsFile)\n",
    "\tgoHTM.Writeline \"<html><body style='font-family:Arial'>\"\n",
    "\tgoHTM.Writeline \"<h1>Support vs. Lift</h1>\"\n",
    "\tgoHTM.Writeline \"<h3>\" & goFSO.GetBaseName(xsFile) & \"</h3>\"\n",
    "\tgoHTM.Writeline \"<svg width='620' height='600'>\"\n",
    "\tgoHTM.Writeline \"<rect x='200' y='0' width='400' height='400' style='fill:#f0f0f0;'/>\"\n",
    "\tgoHTM.Writeline \"<!-- vertical grid lines -->\"\n",
    "\tgoHTM.Writeline \"<line x1='100' y1='0' x2='100' y2='510' stroke='black'/>\"\n",
    "\tgoHTM.Writeline \"<line x1='200' y1='0' x2='200' y2='510' stroke-dasharray='5,5' stroke='silver'/>\"\n",
    "\tgoHTM.Writeline \"<line x1='300' y1='0' x2='300' y2='510' stroke-dasharray='5,5' stroke='silver'/>\"\n",
    "\tgoHTM.Writeline \"<line x1='400' y1='0' x2='400' y2='510' stroke-dasharray='5,5' stroke='silver'/>\"\n",
    "\tgoHTM.Writeline \"<line x1='500' y1='0' x2='500' y2='510' stroke-dasharray='5,5' stroke='silver'/>\"\n",
    "\tgoHTM.Writeline \"<line x1='600' y1='0' x2='600' y2='510' stroke='black'/>\"\n",
    "\tgoHTM.Writeline \"<!-- Support labels -->\"\n",
    "\tgoHTM.Writeline \"<text x='100' y='520' fill='black' text-anchor='middle'>0%</text>\"\n",
    "\tgoHTM.Writeline \"<text x='200' y='520' fill='black' text-anchor='middle'>20%</text>\"\n",
    "\tgoHTM.Writeline \"<text x='300' y='520' fill='black' text-anchor='middle'>40%</text>\"\n",
    "\tgoHTM.Writeline \"<text x='400' y='520' fill='black' text-anchor='middle'>60%</text>\"\n",
    "\tgoHTM.Writeline \"<text x='500' y='520' fill='black' text-anchor='middle'>80%</text>\"\n",
    "\tgoHTM.Writeline \"<text x='600' y='520' fill='black' text-anchor='middle'>100%</text>\"\n",
    "\tgoHTM.Writeline \"<text x='350' y='540' fill='black' text-anchor='middle'>Support</text>\"\n",
    "\tgoHTM.Writeline \"<!-- horizontal grid lines -->\"\n",
    "\tgoHTM.Writeline \"<line x1='90' y1='0' x2='600' y2='0' stroke='black'/>\"\n",
    "\tgoHTM.Writeline \"<line x1='90' y1='100' x2='600' y2='100' stroke-dasharray='5,5' stroke='silver'/>\"\n",
    "\tgoHTM.Writeline \"<line x1='90' y1='200' x2='600' y2='200' stroke-dasharray='5,5' stroke='silver'/>\"\n",
    "\tgoHTM.Writeline \"<line x1='90' y1='300' x2='600' y2='300' stroke-dasharray='5,5' stroke='silver'/>\"\n",
    "\tgoHTM.Writeline \"<line x1='90' y1='400' x2='600' y2='400' stroke-dasharray='5,5' stroke='silver'/>\"\n",
    "\tgoHTM.Writeline \"<line x1='90' y1='500' x2='600' y2='500' stroke='black'/>\"\n",
    "\tgoHTM.Writeline \"<!-- Lift labels -->\"\n",
    "\tgoHTM.Writeline \"<text x='85' y='10' fill='black' text-anchor='end'>20</text>\"\n",
    "\tgoHTM.Writeline \"<text x='85' y='105' fill='black' text-anchor='end'>16</text>\"\n",
    "\tgoHTM.Writeline \"<text x='85' y='205' fill='black' text-anchor='end'>12</text>\"\n",
    "\tgoHTM.Writeline \"<text x='85' y='305' fill='black' text-anchor='end'>8</text>\"\n",
    "\tgoHTM.Writeline \"<text x='85' y='405' fill='black' text-anchor='end'>4</text>\"\n",
    "\tgoHTM.Writeline \"<text x='85' y='505' fill='black' text-anchor='end'>0</text>\"\n",
    "\tgoHTM.Writeline \"<text x='50' y='250' fill='black' transform='rotate(-90 50,250)' text-anchor='middle'>Lift</text>\"\n",
    "End Sub\n",
    "```"
   ]
  },
  {
   "cell_type": "markdown",
   "metadata": {},
   "source": [
    "The code was applied to both the current dataset for Lab 3 and the dataset created using the SMOTE method in lab 2.\n",
    "\n",
    "|Dataset|Transactions|Rules|Time|\n",
    "|:---|:----------:|:---:|---:|\n",
    "|Offense dataset|36,489|542,315|286.37|\n",
    "|SMOTE dataset|61,181|349,292|311.69|"
   ]
  },
  {
   "cell_type": "markdown",
   "metadata": {},
   "source": [
    "<a href=\"data/DC_Crime_2015_Lab3_ARules_Coded3_SvC.htm\"><img src=\"images/Arules_SvC_Offense.PNG\"></a>\n",
    "<a href=\"data/DC_Crime_2015_Lab3_ARules_Coded3_SvL.htm\"><img src=\"images/Arules_SvL_Offense.PNG\"></a>\n",
    "<a href=\"data/DC_Crime_2015_Lab3_ARules_Coded3_RuleMatrix.htm\"><img src=\"images/Arules_Top_Offense.PNG\"></a>\n",
    "\n",
    "<a href=\"data/DC_Crime_2015_Lab3_ARules_VP_SvC.htm\"><img src=\"images/Arules_SvC_SMOTE.PNG\"></a>\n",
    "<a href=\"data/DC_Crime_2015_Lab3_ARules_VP_SvL.htm\"><img src=\"images/Arules_SvL_SMOTE.PNG\"></a>\n",
    "<a href=\"data/DC_Crime_2015_Lab3_ARules_VP_RuleMatrix.htm\"><img src=\"images/Arules_Top_SMOTE.PNG\"></a>"
   ]
  },
  {
   "cell_type": "code",
   "execution_count": null,
   "metadata": {
    "collapsed": true
   },
   "outputs": [],
   "source": []
  },
  {
   "cell_type": "markdown",
   "metadata": {},
   "source": [
    "<a id='deployment'></a>\n",
    "## 4 - Deployment\n",
    "<div style='margin-left:10%;margin-right:10%;margin-top:15px;background-color:#d3d3d3;padding:10px;'>\n",
    "<h3>Deployment (<b>10 points total</b>)</h3>\n",
    "<p><ul>\n",
    "<li>Be critical of your performance and tell the reader how your current model might be usable by other parties.</li>\n",
    "<li>Did you achieve your goals? If not, can you reign in the utility of your modeling?</li>\n",
    "<li>How useful is your model for interested parties (i.e., the companies or organizations that might want to use it)?</li>\n",
    "<li>How would your deploy your model for interested parties?</li>\n",
    "<li>What other data should be collected?</li>\n",
    "<li>How often would the model need to be updated, etc.?</li>\n",
    "</ul>\n",
    "</div>"
   ]
  },
  {
   "cell_type": "code",
   "execution_count": null,
   "metadata": {
    "collapsed": true
   },
   "outputs": [],
   "source": []
  },
  {
   "cell_type": "markdown",
   "metadata": {},
   "source": [
    "<a id='exceptional_work'></a>\n",
    "## 5 - Exceptional Work\n",
    "<div style='margin-left:10%;margin-right:10%;margin-top:15px;background-color:#d3d3d3;padding:10px;'>\n",
    "<h3>Exceptional Work (<b>10 points total</b>)</h3>\n",
    "<p>You have free reign to provide additional analyses or combine analyses</p>\n",
    "</div>"
   ]
  },
  {
   "cell_type": "code",
   "execution_count": 4,
   "metadata": {
    "collapsed": true
   },
   "outputs": [],
   "source": [
    "# generic imports\n",
    "import pandas as pd\n",
    "import numpy as np\n",
    "from __future__ import print_function\n",
    "\n",
    "# plotting setup\n",
    "%matplotlib inline\n",
    "import matplotlib.pyplot as plt\n",
    "plt.style.use('ggplot')\n",
    "\n",
    "import seaborn as sns\n",
    "sns.set(font_scale=1)\n",
    "cmap = sns.diverging_palette(220, 10, as_cmap=True) # one of the many color mappings\n",
    "\n",
    "# scikit imports\n",
    "from sklearn import metrics\n",
    "from sklearn.preprocessing import StandardScaler\n",
    "from sklearn.linear_model import LogisticRegression\n",
    "from sklearn.model_selection import train_test_split\n",
    "from sklearn.model_selection import cross_val_score\n",
    "from sklearn.model_selection import StratifiedKFold\n",
    "from sklearn.model_selection import GridSearchCV\n",
    "from sklearn.model_selection import train_test_split\n",
    "from sklearn.pipeline import Pipeline\n",
    "from sklearn.decomposition import PCA\n",
    "from sklearn.neighbors import KNeighborsClassifier\n",
    "from sklearn.ensemble import RandomForestClassifier\n",
    "from sklearn.naive_bayes import GaussianNB\n",
    "from sklearn.ensemble import VotingClassifier\n",
    "from sklearn.linear_model import SGDClassifier\n",
    "\n",
    "# Read in the crime data from the CSV file\n",
    "df = pd.read_csv('data/DC_Crime_2015_Lab2_Weather.csv')\n",
    "#df_foodstamps = pd.read_csv('data/foodstamps.csv')\n",
    "df_anc_data = pd.read_csv('data/ANC Data Unemployment and Housing Master.csv')"
   ]
  },
  {
   "cell_type": "code",
   "execution_count": 5,
   "metadata": {
    "collapsed": false,
    "scrolled": true
   },
   "outputs": [
    {
     "name": "stdout",
     "output_type": "stream",
     "text": [
      "<class 'pandas.core.frame.DataFrame'>\n",
      "RangeIndex: 36489 entries, 0 to 36488\n",
      "Data columns (total 33 columns):\n",
      "REPORT_DAT              36489 non-null object\n",
      "SHIFT                   36489 non-null object\n",
      "OFFENSE                 36489 non-null object\n",
      "METHOD                  36489 non-null object\n",
      "DISTRICT                36442 non-null float64\n",
      "PSA                     36441 non-null float64\n",
      "WARD                    36489 non-null int64\n",
      "ANC                     36489 non-null int64\n",
      "NEIGHBORHOOD_CLUSTER    36489 non-null int64\n",
      "CENSUS_TRACT            36489 non-null int64\n",
      "VOTING_PRECINCT         36489 non-null int64\n",
      "CCN                     36489 non-null int64\n",
      "XBLOCK                  36489 non-null float64\n",
      "YBLOCK                  36489 non-null float64\n",
      "START_DATE              36489 non-null object\n",
      "END_DATE                36489 non-null object\n",
      "PSA_ID                  36489 non-null int64\n",
      "DistrictID              36489 non-null int64\n",
      "SHIFT_Code              36489 non-null int64\n",
      "OFFENSE_Code            36489 non-null int64\n",
      "METHOD_Code             36489 non-null int64\n",
      "CRIME_TYPE              36489 non-null int64\n",
      "AGE                     36489 non-null int64\n",
      "TIME_TO_REPORT          36489 non-null int64\n",
      "Latitude                36489 non-null float64\n",
      "Longitude               36489 non-null float64\n",
      "Max_Temp                36489 non-null int64\n",
      "Min_Temp                36489 non-null int64\n",
      "Max_Humidity            36489 non-null int64\n",
      "Min_Humidity            36489 non-null int64\n",
      "Max_Pressure            36489 non-null float64\n",
      "Min_Pressure            36489 non-null float64\n",
      "Precipitation           36489 non-null float64\n",
      "dtypes: float64(9), int64(18), object(6)\n",
      "memory usage: 9.2+ MB\n",
      "None\n",
      "\n",
      "<class 'pandas.core.frame.DataFrame'>\n",
      "RangeIndex: 85 entries, 0 to 84\n",
      "Data columns (total 6 columns):\n",
      "YR                85 non-null int64\n",
      "ANC               85 non-null int64\n",
      "ANC2              85 non-null object\n",
      "ANC3              85 non-null object\n",
      "Housing_Prices    85 non-null int64\n",
      "Unemployment      85 non-null float64\n",
      "dtypes: float64(1), int64(3), object(2)\n",
      "memory usage: 4.1+ KB\n",
      "None\n"
     ]
    }
   ],
   "source": [
    "print(df.info())\n",
    "print('')\n",
    "print(df_anc_data.info())"
   ]
  },
  {
   "cell_type": "code",
   "execution_count": 6,
   "metadata": {
    "collapsed": true
   },
   "outputs": [],
   "source": [
    "# drop ANC2 and ANC3 from the df_anc_data DataFrame\n",
    "# remove Unemployment and Housing_Prices because you will not have this information from crime reports\n",
    "del df_anc_data['ANC2']\n",
    "del df_anc_data['ANC3']"
   ]
  },
  {
   "cell_type": "code",
   "execution_count": 7,
   "metadata": {
    "collapsed": true
   },
   "outputs": [],
   "source": [
    "# create dummy codes given a list of attributes and dataframe\n",
    "def dummy_code(attrib_list, df):\n",
    "    for attrib in (attrib_list):\n",
    "        tmp_df = pd.get_dummies(df[attrib], prefix=attrib)\n",
    "        df = pd.concat((df, tmp_df),axis=1) # add back into the dataframe\n",
    "    \n",
    "        del df[attrib] # remove attribe\n",
    "    return df"
   ]
  },
  {
   "cell_type": "code",
   "execution_count": 8,
   "metadata": {
    "collapsed": true
   },
   "outputs": [],
   "source": [
    "if 'END_DATE' in df:\n",
    "    # convert END_DATE to datetime\n",
    "    df.END_DATE = pd.to_datetime(df.END_DATE)\n",
    "    \n",
    "    # add YR to merge on with foodstamp df\n",
    "    df['YR'] = df.END_DATE.map(lambda x: x.year)\n",
    "    df.YR = df.YR.astype('int64')\n",
    "    \n",
    "    # merge ANC data into df\n",
    "    df = pd.merge(df, df_anc_data, on=['ANC', 'YR'])\n",
    "    \n",
    "    # drop temp YR\n",
    "    del df['YR']"
   ]
  },
  {
   "cell_type": "code",
   "execution_count": 9,
   "metadata": {
    "collapsed": true
   },
   "outputs": [],
   "source": [
    "# remove attributes that aren't useful\n",
    "for attrib in ('REPORT_DAT', 'SHIFT', 'OFFENSE', 'METHOD', 'DISTRICT', 'PSA', 'WARD', 'CENSUS_TRACT', \n",
    "               'VOTING_PRECINCT', 'CRIME_TYPE', 'CCN', 'XBLOCK', 'YBLOCK', 'START_DATE', 'DistrictID', 'SHIFT_Code', \n",
    "               'METHOD_Code', 'AGE', 'TIME_TO_REPORT', 'END_DATE', 'PSA_ID', 'NEIGHBORHOOD_CLUSTER',\n",
    "               'OFFENSE_Code', 'Latitude', 'Longitude', 'Max_Temp', 'Min_Temp', 'Max_Humidity', 'Min_Humidity', \n",
    "               'Min_Pressure', 'Max_Pressure', 'Precipitation'):\n",
    "    if attrib in df:\n",
    "        del df[attrib]"
   ]
  },
  {
   "cell_type": "code",
   "execution_count": 10,
   "metadata": {
    "collapsed": false
   },
   "outputs": [
    {
     "name": "stdout",
     "output_type": "stream",
     "text": [
      "<class 'pandas.core.frame.DataFrame'>\n",
      "Int64Index: 36489 entries, 0 to 36488\n",
      "Data columns (total 3 columns):\n",
      "ANC               36489 non-null int64\n",
      "Housing_Prices    36489 non-null int64\n",
      "Unemployment      36489 non-null float64\n",
      "dtypes: float64(1), int64(2)\n",
      "memory usage: 1.1 MB\n"
     ]
    }
   ],
   "source": [
    "# do we look good?\n",
    "df.info()"
   ]
  },
  {
   "cell_type": "code",
   "execution_count": 11,
   "metadata": {
    "collapsed": false
   },
   "outputs": [
    {
     "data": {
      "text/plain": [
       "ANC                   11.0\n",
       "Housing_Prices    660000.0\n",
       "Unemployment           7.7\n",
       "Name: 1234, dtype: float64"
      ]
     },
     "execution_count": 11,
     "metadata": {},
     "output_type": "execute_result"
    }
   ],
   "source": [
    "# print a data record for a given row index value\n",
    "df.ix[1234]"
   ]
  },
  {
   "cell_type": "markdown",
   "metadata": {},
   "source": [
    "### Here we set up the data for classification"
   ]
  },
  {
   "cell_type": "code",
   "execution_count": 12,
   "metadata": {
    "collapsed": true
   },
   "outputs": [],
   "source": [
    "# create X and y\n",
    "y = df['ANC']\n",
    "X = df[['Housing_Prices', 'Unemployment']]\n",
    "X_transformed = StandardScaler().fit_transform(X)"
   ]
  },
  {
   "cell_type": "code",
   "execution_count": 13,
   "metadata": {
    "collapsed": false,
    "scrolled": true
   },
   "outputs": [
    {
     "name": "stdout",
     "output_type": "stream",
     "text": [
      "Size of the dataset: (36489, 3)\n",
      "Number of unique ANC types: 40\n",
      "\n",
      "ANC Percentage\n",
      "ANC\n",
      "11    5.744197\n",
      "12    5.313930\n",
      "13    2.071857\n",
      "14    0.956453\n",
      "21    2.170517\n",
      "22    5.467401\n",
      "23    4.014909\n",
      "24    0.422045\n",
      "25    2.866617\n",
      "26    3.228370\n",
      "32    0.476856\n",
      "33    1.244211\n",
      "34    0.600181\n",
      "35    1.685439\n",
      "36    0.775576\n",
      "37    0.622105\n",
      "41    2.318507\n",
      "42    2.663816\n",
      "43    2.907726\n",
      "44    1.340130\n",
      "51    1.101702\n",
      "52    1.934830\n",
      "53    4.099866\n",
      "54    3.280441\n",
      "55    3.524350\n",
      "61    3.296884\n",
      "62    4.524651\n",
      "63    3.242073\n",
      "64    2.225328\n",
      "65    3.058456\n",
      "72    2.195182\n",
      "73    2.699444\n",
      "74    2.403464\n",
      "75    2.060895\n",
      "76    2.639152\n",
      "81    2.408945\n",
      "82    2.258215\n",
      "83    2.417167\n",
      "84    1.740250\n",
      "85    1.997862\n",
      "Name: ANC, dtype: float64\n",
      "Mean: 2.5, Standard deviaion: 1.32662131416\n"
     ]
    },
    {
     "data": {
      "image/png": "[encoded data removed]",
      "text/plain": [
       "<matplotlib.figure.Figure at 0x3fa7c50>"
      ]
     },
     "metadata": {},
     "output_type": "display_data"
    }
   ],
   "source": [
    "# examine what our data\n",
    "print('Size of the dataset:', df.shape)\n",
    "print('Number of unique ANC types:', len(df.ANC.unique()))\n",
    "\n",
    "print('')\n",
    "print('ANC Percentage')\n",
    "y_series = pd.Series(y)\n",
    "y_tot = y_series.count()\n",
    "y_grp = y_series.groupby(y_series)\n",
    "y_pct = y_grp.count() / y_tot * 100.\n",
    "print(y_pct)\n",
    "print('Mean: {}, Standard deviaion: {}'.format(y_pct.mean(), y_pct.std()))\n",
    "\n",
    "# plot distribution\n",
    "ax = sns.distplot(y)\n",
    "plt.title('Distribution of ANC')\n",
    "plt.show()"
   ]
  },
  {
   "cell_type": "markdown",
   "metadata": {},
   "source": [
    "### Classification base accuracy"
   ]
  },
  {
   "cell_type": "code",
   "execution_count": 14,
   "metadata": {
    "collapsed": false
   },
   "outputs": [
    {
     "name": "stdout",
     "output_type": "stream",
     "text": [
      "Average accuracy = 99.8402063989 +/- 0.470365872735\n"
     ]
    }
   ],
   "source": [
    "# leveraging concept from 06 Classification notebook\n",
    "yhat = np.zeros(y.shape)\n",
    "\n",
    "# classifier                           \n",
    "clf = RandomForestClassifier(n_estimators=200,\n",
    "                             n_jobs=-1, class_weight='balanced')\n",
    "\n",
    "skf = StratifiedKFold(n_splits=10, random_state=0)\n",
    "\n",
    "acc = cross_val_score(clf, X=X_transformed, y=y, cv=skf)\n",
    "\n",
    "print('Average accuracy =', acc.mean()*100, '+/-', acc.std()*100)"
   ]
  },
  {
   "cell_type": "markdown",
   "metadata": {},
   "source": [
    "### Base Visualization"
   ]
  },
  {
   "cell_type": "code",
   "execution_count": 15,
   "metadata": {
    "collapsed": false
   },
   "outputs": [
    {
     "data": {
      "image/png": "[encoded data removed]",
      "text/plain": [
       "<matplotlib.figure.Figure at 0xcaf0dd8>"
      ]
     },
     "metadata": {},
     "output_type": "display_data"
    }
   ],
   "source": [
    "sns.set_palette(\"Set1\", 8, .5)\n",
    "\n",
    "X1 = X_transformed\n",
    "\n",
    "ax = sns.jointplot(x=X1[:, 0], y=X1[:, 1])\n",
    "ax.set_axis_labels(xlabel='Housing Prices', ylabel='Unemployment')\n",
    "plt.show()"
   ]
  },
  {
   "cell_type": "markdown",
   "metadata": {},
   "source": [
    "## Clustering\n",
    "\n",
    "Code adapted from 09. Clustering Discretization, 10. Clustering Validity, and assignment 4 notebooks."
   ]
  },
  {
   "cell_type": "code",
   "execution_count": 16,
   "metadata": {
    "collapsed": true
   },
   "outputs": [],
   "source": [
    "from sklearn import metrics\n",
    "\n",
    "\n",
    "def eval_cluster(labels, labels_true, data):\n",
    "    n_clusters_ = len(set(labels)) - (1 if -1 in labels else 0)\n",
    "    print('Estimated number of clusters: %d' % n_clusters_)\n",
    "    print(\"Homogeneity: %0.3f\" % metrics.homogeneity_score(labels_true, labels))\n",
    "    print(\"Completeness: %0.3f\" % metrics.completeness_score(labels_true, labels))\n",
    "    print(\"V-measure: %0.3f\" % metrics.v_measure_score(labels_true, labels))\n",
    "    print(\"Adjusted Rand Index: %0.3f\" % metrics.adjusted_rand_score(labels_true, labels))\n",
    "    print(\"Adjusted Mutual Information: %0.3f\" % metrics.adjusted_mutual_info_score(labels_true, labels))\n",
    "#     print(\"Silhouette Coefficient: %0.3f\" % metrics.silhouette_score(data, labels))\n",
    "    \n",
    "def plot_cluster(data, feature, xlabel, ylabel):\n",
    "    plt.figure()\n",
    "    plt.scatter(data[:, 0], data[:, 1]+np.random.random(X1[:, 1].shape)/2, c=feature, \n",
    "                cmap=plt.cm.rainbow, s=20, linewidths=0)\n",
    "    plt.xlabel(xlabel)\n",
    "    plt.ylabel(ylabel)\n",
    "    plt.show() \n",
    "    \n",
    "def store_best_result(data, acc, attribs):\n",
    "    mean = acc.mean()*100\n",
    "    std = acc.std()*100\n",
    "    \n",
    "    if data['acc']<(mean+std):\n",
    "        data['acc'] = (mean + std)\n",
    "        for k, v in attribs.iteritems():\n",
    "            data[k] = v\n",
    "    return mean, std"
   ]
  },
  {
   "cell_type": "markdown",
   "metadata": {},
   "source": [
    "### Mini Batch KMeans"
   ]
  },
  {
   "cell_type": "code",
   "execution_count": 17,
   "metadata": {
    "collapsed": false
   },
   "outputs": [
    {
     "name": "stdout",
     "output_type": "stream",
     "text": [
      "KMeans: clusters = 53 , average accuracy = 99.8265486657 +/- 0.476663133235\n",
      "KMeans: clusters = 54 , average accuracy = 99.8182819255 +/- 0.501377552157\n",
      "KMeans: clusters = 55 , average accuracy = 99.8237930856 +/- 0.484900299382\n",
      "KMeans: clusters = 56 , average accuracy = 99.785455299 +/- 0.536039588567\n",
      "KMeans: clusters = 57 , average accuracy = 99.7856055077 +/- 0.501457379613\n",
      "best clusters = 56\n"
     ]
    }
   ],
   "source": [
    "from sklearn.cluster import MiniBatchKMeans\n",
    "\n",
    "kmeans_best_result = {'acc':0, 'clusters':0}\n",
    "for clusters in range(53, 58):\n",
    "    cls = MiniBatchKMeans(n_clusters=clusters, init='k-means++', random_state=1)\n",
    "    cls.fit(X_transformed)\n",
    "    X_new = pd.get_dummies(cls.labels_)\n",
    "    \n",
    "    acc = cross_val_score(clf, X=X_new, y=y, cv=skf)\n",
    "\n",
    "    mean, std = store_best_result(kmeans_best_result, acc, {'clusters':clusters})\n",
    "    print('KMeans: clusters =',  clusters, ', average accuracy =', mean, '+/-', std)\n",
    "\n",
    "print('best clusters =', kmeans_best_result['clusters'])"
   ]
  },
  {
   "cell_type": "markdown",
   "metadata": {},
   "source": [
    "#### Visualize best cluster"
   ]
  },
  {
   "cell_type": "code",
   "execution_count": 18,
   "metadata": {
    "collapsed": false,
    "scrolled": false
   },
   "outputs": [
    {
     "name": "stdout",
     "output_type": "stream",
     "text": [
      "Clusters: 56\n",
      "Estimated number of clusters: 47\n",
      "Homogeneity: 0.998\n",
      "Completeness: 0.996\n",
      "V-measure: 0.997\n",
      "Adjusted Rand Index: 0.997\n",
      "Adjusted Mutual Information: 0.996\n"
     ]
    },
    {
     "data": {
      "image/png": "[encoded data removed]",
      "text/plain": [
       "<matplotlib.figure.Figure at 0xc234470>"
      ]
     },
     "metadata": {},
     "output_type": "display_data"
    }
   ],
   "source": [
    "clusters = kmeans_best_result['clusters']\n",
    "print('Clusters:', clusters)\n",
    "\n",
    "cls = MiniBatchKMeans(n_clusters=clusters, init='k-means++', random_state=1)\n",
    "cls.fit(X_transformed)\n",
    "\n",
    "eval_cluster(cls.labels_, y, X_transformed)\n",
    "plot_cluster(X_transformed, cls.labels_, 'Housing Prices (normalized)', 'Unemployment (normalized)')"
   ]
  },
  {
   "cell_type": "markdown",
   "metadata": {},
   "source": [
    "### Agglomerative"
   ]
  },
  {
   "cell_type": "code",
   "execution_count": null,
   "metadata": {
    "collapsed": false
   },
   "outputs": [],
   "source": [
    "from sklearn.cluster import AgglomerativeClustering\n",
    "\n",
    "\n",
    "agg_best_result = {'acc':0, 'link':None, 'clusters':0}\n",
    "for link in ['ward', 'complete', 'average']:\n",
    "    for clusters in range(44, 48):\n",
    "\n",
    "        # append on the clustering\n",
    "        cls = AgglomerativeClustering(n_clusters=clusters, linkage=link)\n",
    "        cls.fit(X_transformed)\n",
    "        X_new = pd.get_dummies(cls.labels_)\n",
    "\n",
    "        acc = cross_val_score(clf, X=X_new, y=y, cv=skf)\n",
    "        \n",
    "        mean, std = store_best_result(agg_best_result, acc, {'clusters':clusters, 'link':link})\n",
    "        print('Agglomerative: clusters =',  clusters, ', link =', link, ', average accuracy =', mean, '+/-', std)\n",
    "        \n",
    "print('best clusters =', agg_best_result['clusters'], ', link = ', agg_best_result['link'])       "
   ]
  },
  {
   "cell_type": "markdown",
   "metadata": {},
   "source": [
    "#### Visualize best cluster"
   ]
  },
  {
   "cell_type": "code",
   "execution_count": null,
   "metadata": {
    "collapsed": true
   },
   "outputs": [],
   "source": [
    "clusters = agg_best_result['clusters']\n",
    "link = agg_best_result['link']\n",
    "print('Clusters:', clusters)\n",
    "print('Link:', link)\n",
    "\n",
    "cls = AgglomerativeClustering(n_clusters=clusters, linkage=link)\n",
    "cls.fit(X_transformed)\n",
    "\n",
    "eval_cluster(cls.labels_, y, X_transformed)\n",
    "plot_cluster(X_transformed, cls.labels_, 'Housing Prices (normalized)', 'Unemployment (normalized)')"
   ]
  },
  {
   "cell_type": "markdown",
   "metadata": {},
   "source": [
    "### DBSCAN\n",
    "\n",
    "Code adopted from `scikit-learn` demo page."
   ]
  },
  {
   "cell_type": "code",
   "execution_count": null,
   "metadata": {
    "collapsed": true
   },
   "outputs": [],
   "source": [
    "from sklearn.cluster import DBSCAN\n",
    "\n",
    "db_best_result = {'acc':0, 'clusters':0, 'eps':0, 'min_samples':0}\n",
    "for eps in [0.001, 0.01, .1]:\n",
    "    for min_samples in [2, 3, 4]:\n",
    "        cls = DBSCAN(eps=eps, min_samples=min_samples)\n",
    "        cls.fit(X_transformed)\n",
    "\n",
    "        X_new = pd.get_dummies(cls.labels_)\n",
    "\n",
    "        acc = cross_val_score(clf, X=X_new, y=y, cv=skf)\n",
    "\n",
    "        labels = cls.labels_\n",
    "        clusters = len(set(labels)) - (1 if -1 in labels else 0)\n",
    "        mean, std = store_best_result(db_best_result, acc, {'clusters':clusters, 'eps':eps, \n",
    "                                                            'min_samples':min_samples})\n",
    "        print('DBSCAN: clusters =',  clusters, ', eps =', eps, ', min_samples =', min_samples,\n",
    "              ', average accuracy =', mean, '+/-', std)\n",
    "    \n",
    "print('best clusters =', db_best_result['clusters'], ', eps = ', db_best_result['eps'],\n",
    "      ', min_samples =', db_best_result['min_samples'])  "
   ]
  },
  {
   "cell_type": "markdown",
   "metadata": {},
   "source": [
    "#### Visualize best cluster"
   ]
  },
  {
   "cell_type": "code",
   "execution_count": null,
   "metadata": {
    "collapsed": true
   },
   "outputs": [],
   "source": [
    "eps = db_best_result['eps']\n",
    "min_samples = db_best_result['min_samples']\n",
    "print('eps:', eps)\n",
    "print('min_samples:', min_samples)\n",
    "\n",
    "cls = DBSCAN(eps=eps, min_samples=min_samples)\n",
    "cls.fit(X_transformed)\n",
    "\n",
    "eval_cluster(cls.labels_, y, X_transformed)\n",
    "plot_cluster(X_transformed, cls.labels_, 'Housing Prices (normalized)', 'Unemployment (normalized)')"
   ]
  },
  {
   "cell_type": "markdown",
   "metadata": {},
   "source": [
    "#### Comparison of cluster visual plots\n",
    "1. Not Clustered\n",
    "2. Mini Batch KMeans\n",
    "3. Agglomerative\n",
    "4. DBSCAN"
   ]
  },
  {
   "cell_type": "code",
   "execution_count": null,
   "metadata": {
    "collapsed": true
   },
   "outputs": [],
   "source": [
    "![Clusters Comparisons](images/cluster_comparison.png \"Comparison of Clusters\") "
   ]
  },
  {
   "cell_type": "code",
   "execution_count": null,
   "metadata": {
    "collapsed": true
   },
   "outputs": [],
   "source": []
  },
  {
   "cell_type": "code",
   "execution_count": null,
   "metadata": {
    "collapsed": true
   },
   "outputs": [],
   "source": []
  },
  {
   "cell_type": "code",
   "execution_count": null,
   "metadata": {
    "collapsed": true
   },
   "outputs": [],
   "source": []
  }
 ],
 "metadata": {
  "anaconda-cloud": {},
  "kernelspec": {
   "display_name": "Python [Root]",
   "language": "python",
   "name": "Python [Root]"
  },
  "language_info": {
   "codemirror_mode": {
    "name": "ipython",
    "version": 2
   },
   "file_extension": ".py",
   "mimetype": "text/x-python",
   "name": "python",
   "nbconvert_exporter": "python",
   "pygments_lexer": "ipython2",
   "version": "2.7.12"
  },
  "nbpresent": {
   "slides": {},
   "themes": {
    "default": "cb59102b-739b-46ff-bf8b-c9d58641059b",
    "theme": {
     "8100c8f4-ae13-4c61-98d1-f3588e841503": {
      "id": "8100c8f4-ae13-4c61-98d1-f3588e841503",
      "palette": {
       "19cc588f-0593-49c9-9f4b-e4d7cc113b1c": {
        "id": "19cc588f-0593-49c9-9f4b-e4d7cc113b1c",
        "rgb": [
         252,
         252,
         252
        ]
       },
       "31af15d2-7e15-44c5-ab5e-e04b16a89eff": {
        "id": "31af15d2-7e15-44c5-ab5e-e04b16a89eff",
        "rgb": [
         68,
         68,
         68
        ]
       },
       "50f92c45-a630-455b-aec3-788680ec7410": {
        "id": "50f92c45-a630-455b-aec3-788680ec7410",
        "rgb": [
         155,
         177,
         192
        ]
       },
       "c5cc3653-2ee1-402a-aba2-7caae1da4f6c": {
        "id": "c5cc3653-2ee1-402a-aba2-7caae1da4f6c",
        "rgb": [
         43,
         126,
         184
        ]
       },
       "efa7f048-9acb-414c-8b04-a26811511a21": {
        "id": "efa7f048-9acb-414c-8b04-a26811511a21",
        "rgb": [
         25.118061674008803,
         73.60176211453744,
         107.4819383259912
        ]
       }
      },
      "rules": {
       "blockquote": {
        "color": "50f92c45-a630-455b-aec3-788680ec7410"
       },
       "code": {
        "font-family": "Anonymous Pro"
       },
       "h1": {
        "color": "c5cc3653-2ee1-402a-aba2-7caae1da4f6c",
        "font-family": "Lato",
        "font-size": 8
       },
       "h2": {
        "color": "c5cc3653-2ee1-402a-aba2-7caae1da4f6c",
        "font-family": "Lato",
        "font-size": 6
       },
       "h3": {
        "color": "50f92c45-a630-455b-aec3-788680ec7410",
        "font-family": "Lato",
        "font-size": 5.5
       },
       "h4": {
        "color": "c5cc3653-2ee1-402a-aba2-7caae1da4f6c",
        "font-family": "Lato",
        "font-size": 5
       },
       "h5": {
        "font-family": "Lato"
       },
       "h6": {
        "font-family": "Lato"
       },
       "h7": {
        "font-family": "Lato"
       },
       "pre": {
        "font-family": "Anonymous Pro",
        "font-size": 4
       }
      },
      "text-base": {
       "font-family": "Merriweather",
       "font-size": 4
      }
     },
     "cb59102b-739b-46ff-bf8b-c9d58641059b": {
      "backgrounds": {
       "dc7afa04-bf90-40b1-82a5-726e3cff5267": {
        "background-color": "31af15d2-7e15-44c5-ab5e-e04b16a89eff",
        "id": "dc7afa04-bf90-40b1-82a5-726e3cff5267"
       }
      },
      "id": "cb59102b-739b-46ff-bf8b-c9d58641059b",
      "palette": {
       "19cc588f-0593-49c9-9f4b-e4d7cc113b1c": {
        "id": "19cc588f-0593-49c9-9f4b-e4d7cc113b1c",
        "rgb": [
         252,
         252,
         252
        ]
       },
       "31af15d2-7e15-44c5-ab5e-e04b16a89eff": {
        "id": "31af15d2-7e15-44c5-ab5e-e04b16a89eff",
        "rgb": [
         68,
         68,
         68
        ]
       },
       "50f92c45-a630-455b-aec3-788680ec7410": {
        "id": "50f92c45-a630-455b-aec3-788680ec7410",
        "rgb": [
         197,
         226,
         245
        ]
       },
       "c5cc3653-2ee1-402a-aba2-7caae1da4f6c": {
        "id": "c5cc3653-2ee1-402a-aba2-7caae1da4f6c",
        "rgb": [
         43,
         126,
         184
        ]
       },
       "efa7f048-9acb-414c-8b04-a26811511a21": {
        "id": "efa7f048-9acb-414c-8b04-a26811511a21",
        "rgb": [
         25.118061674008803,
         73.60176211453744,
         107.4819383259912
        ]
       }
      },
      "rules": {
       "a": {
        "color": "19cc588f-0593-49c9-9f4b-e4d7cc113b1c"
       },
       "blockquote": {
        "color": "50f92c45-a630-455b-aec3-788680ec7410",
        "font-size": 3
       },
       "code": {
        "font-family": "Anonymous Pro"
       },
       "h1": {
        "color": "19cc588f-0593-49c9-9f4b-e4d7cc113b1c",
        "font-family": "Merriweather",
        "font-size": 8
       },
       "h2": {
        "color": "19cc588f-0593-49c9-9f4b-e4d7cc113b1c",
        "font-family": "Merriweather",
        "font-size": 6
       },
       "h3": {
        "color": "50f92c45-a630-455b-aec3-788680ec7410",
        "font-family": "Lato",
        "font-size": 5.5
       },
       "h4": {
        "color": "c5cc3653-2ee1-402a-aba2-7caae1da4f6c",
        "font-family": "Lato",
        "font-size": 5
       },
       "h5": {
        "font-family": "Lato"
       },
       "h6": {
        "font-family": "Lato"
       },
       "h7": {
        "font-family": "Lato"
       },
       "li": {
        "color": "50f92c45-a630-455b-aec3-788680ec7410",
        "font-size": 3.25
       },
       "pre": {
        "font-family": "Anonymous Pro",
        "font-size": 4
       }
      },
      "text-base": {
       "color": "19cc588f-0593-49c9-9f4b-e4d7cc113b1c",
       "font-family": "Lato",
       "font-size": 4
      }
     }
    }
   }
  }
 },
 "nbformat": 4,
 "nbformat_minor": 0
}
